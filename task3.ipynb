{
 "cells": [
  {
   "cell_type": "code",
   "execution_count": 140,
   "id": "initial_id",
   "metadata": {
    "collapsed": true,
    "ExecuteTime": {
     "end_time": "2023-10-19T16:35:47.982371300Z",
     "start_time": "2023-10-19T16:35:47.937737400Z"
    }
   },
   "outputs": [],
   "source": [
    "import pandas as pd"
   ]
  },
  {
   "cell_type": "raw",
   "source": [
    "The table schemas for given dataset:\n",
    "\n",
    "CREATE TABLE Transactions (\n",
    "    TransactionID INT PRIMARY KEY AUTO_INCREMENT,  -- Unique identifier for the transaction (auto-generated)\n",
    "    EventDate DATE,                                -- Date of the transaction event\n",
    "    SubscriberID INT,                              -- The randomly generated Subscriber ID that is unique to each customer and \n",
    "                                                      developer.\n",
    "    SubscriptionAppleID INT,                       -- References the specific subscription\n",
    "    CustomerPrice DECIMAL(10, 2),                  -- The price of your auto-renewable subscription. Negative values indicate\n",
    "                                                      refunds.\n",
    "    CustomerCurrency CHAR(3),                      -- Three-character ISO code indicating the customer’s currency.\n",
    "    CustomerPriceUSD DECIMAL(10, 2),               -- The price of your subscription converted to USD by the rate on that day.\n",
    "    DeveloperProceeds DECIMAL(10, 2),              -- The proceeds for each item delivered.\n",
    "    ProceedsCurrency CHAR(3),                      -- The currency in which your proceeds are earned.\n",
    "    DeveloperProceedsUSD DECIMAL(10, 2),           -- The proceeds for each item delivered converted to USD.\n",
    "    PreservedPricing BOOLEAN,                      -- For renewals, if the price is preserved then this field equals “Yes”.\n",
    "                                                      Otherwise, it is blank.\n",
    "    ProceedsReason VARCHAR(25),                    -- If a subscription has been active for more than a year then you receive \n",
    "                                                      85% of the customer price, minus applicable taxes, and this field equals\n",
    "                                                      “Rate After One Year.” Otherwise, you receive 70% and the field is blank.\n",
    "    Client VARCHAR(10),                            -- If the subscription was purchased from News then this field equals “News”. \n",
    "                                                      Otherwise, it is blank.\n",
    "    Device VARCHAR(12),                            -- Type of device used for subscription purchase: iPhone, iPad, Apple TV, \n",
    "                                                      iPod touch, or Desktop.\n",
    "    Country CHAR(2),                               -- Two-character ISO country code indicating the App Store country or region \n",
    "                                                      for the purchase. \n",
    "    SubscriberIDReset BOOLEAN,                     -- If a customer cancels all of their subscriptions with you and does not \n",
    "                                                      resubscribe within 180 days, the Subscriber ID will be deleted. If the\n",
    "                                                      same customer resubscribes after 180 days, then we create a new Subscriber \n",
    "                                                      ID and this field equals “Yes.” Otherwise, it is blank.Subscriber IDs are \n",
    "                                                      reset when an app is transferred to another developer account.\n",
    "    Refund BOOLEAN,                                -- For full or partial refunds, this field equals “Yes.” Otherwise, it is \n",
    "                                                      blank.\n",
    "    PurchaseDate DATE,                             -- For refunds, the date of the original purchase.\n",
    "    Units INT,                                     -- The aggregated number of units. A value of 0 may indicate a partial refund.\n",
    "    FOREIGN KEY (SubscriptionAppleID) REFERENCES Subscriptions(SubscriptionAppleID)\n",
    ");\n",
    "\n",
    "CREATE TABLE Subscriptions (\n",
    "    SubscriptionAppleID INT PRIMARY KEY NOT NULL,  -- Apple ID of your subscription.\n",
    "    AppAppleID INT,                                -- References the app associated with this subscription\n",
    "    SubscriptionGroupID INT,                       -- Your subscription’s Group ID (formerly Family ID).\n",
    "    SubscriptionName VARCHAR(255),                 -- Title of your subscription.\n",
    "    SubscriptionDuration VARCHAR(10),              -- Duration of the standard subscription: 7 Days, 1 Month, 2 Months, \n",
    "                                                      3 Months, 6 Months, or 1 Year.\n",
    "    IntroductoryPriceType VARCHAR(20),             -- Type of introductory price: Pay Up Front, Pay As You Go, or Free Trial\n",
    "    IntroductoryPriceDuration VARCHAR(10),         -- Duration of the introductory price if applicable: For example, 3 Days, \n",
    "                                                      1 Week, 2 Weeks, 1 Month, 2 Months, 3 Months, 6 Months, or 1 Year.\n",
    "    MarketingOptInDuration VARCHAR(10),            -- Duration of the marketing opt-in if applicable: 7 Days, 1 Month, 2 Months,\n",
    "                                                      3 Months, 6 Months, or 1 Year.\n",
    "    FOREIGN KEY (AppAppleID) REFERENCES Apps(AppAppleID)\n",
    ");\n",
    "\n",
    "CREATE TABLE Apps (\n",
    "    AppAppleID INT PRIMARY KEY NOT NULL,  -- Apple ID of your subscription’s parent app.\n",
    "    AppName VARCHAR(255),                 -- Title of your subscription’s parent app.\n",
    ");"
   ],
   "metadata": {
    "collapsed": false
   },
   "id": "f47e5e05234bf4e1"
  },
  {
   "cell_type": "markdown",
   "source": [
    "metadata = MetaData()\n",
    "\n",
    "#define the tables\n",
    "apps = Table('apps', metadata,\n",
    "             Column('app_apple_id', Integer, primary_key=True, nullable=False),\n",
    "             Column('app_name', Text)\n",
    "             )\n",
    "\n",
    "subscriptions = Table('subscriptions', metadata,\n",
    "                      Column('subscription_apple_id', Integer, primary_key=True, nullable=False),\n",
    "                      Column('app_apple_id', Integer, ForeignKey('apps.app_apple_id', ondelete='CASCADE'), nullable=False),\n",
    "                      Column('subscription_group_id', Integer),\n",
    "                      Column('subscription_name', Text),\n",
    "                      Column('subscription_duration', Text),\n",
    "                      Column('introductory_price_type', Text),\n",
    "                      Column('introductory_price_duration', Text),\n",
    "                      Column('marketing_opt_in_duration', Text)\n",
    "                      )\n",
    "\n",
    "transactions = Table('transactions', metadata,\n",
    "                     Column('transaction_id', Integer, primary_key=True, autoincrement=True),\n",
    "                     Column('event_date', Date),\n",
    "                     Column('subscriber_id', Integer),\n",
    "                     Column('subscription_apple_id', Integer, ForeignKey('subscriptions.subscription_apple_id', ondelete='CASCADE'), nullable=False),\n",
    "                     Column('customer_price', Numeric(10, 2)),\n",
    "                     Column('customer_currency', CHAR(3)),\n",
    "                     Column('customer_price_usd', Numeric(10, 2)),\n",
    "                     Column('developer_proceeds', Numeric(10, 2)),\n",
    "                     Column('proceeds_currency', CHAR(3)),\n",
    "                     Column('developer_proceeds_usd', Numeric(10, 2)),\n",
    "                     Column('preserved_pricing', Boolean),\n",
    "                     Column('proceeds_reason', Text),\n",
    "                     Column('client', Text),\n",
    "                     Column('device', Text),\n",
    "                     Column('country', CHAR(2)),\n",
    "                     Column('subscriber_id_reset', Boolean),\n",
    "                     Column('refund', Boolean),\n",
    "                     Column('purchase_date', Date),\n",
    "                     Column('units', Integer)\n",
    "                     )\n",
    "\n",
    "#metadata.create_all(engine)"
   ],
   "metadata": {
    "collapsed": false
   },
   "id": "1d17b3c973415111"
  },
  {
   "cell_type": "code",
   "execution_count": 141,
   "outputs": [],
   "source": [
    "import os\n",
    "raw_df = pd.DataFrame()\n",
    "for filename in os.listdir('itunes_dataset'):\n",
    "    file_path = os.path.join('itunes_dataset', filename)\n",
    "    df_new = pd.read_csv(file_path, delimiter='\\t')\n",
    "    raw_df = pd.concat([raw_df, df_new], ignore_index=True)"
   ],
   "metadata": {
    "collapsed": false,
    "ExecuteTime": {
     "end_time": "2023-10-19T16:35:48.040098200Z",
     "start_time": "2023-10-19T16:35:47.943307300Z"
    }
   },
   "id": "af806eaa1aac2666"
  },
  {
   "cell_type": "code",
   "execution_count": 142,
   "outputs": [
    {
     "data": {
      "text/plain": "    Event Date                       App Name  App Apple ID  \\\n0   2019-02-01  BetterMe: Calm,Sleep,Meditate    1363010081   \n1   2019-02-01  BetterMe: Calm,Sleep,Meditate    1363010081   \n2   2019-02-01  BetterMe: Yoga for Weightloss    1398851503   \n3   2019-02-01  BetterMe: Yoga for Weightloss    1398851503   \n4   2019-02-01  BetterMe: Yoga for Weightloss    1398851503   \n..         ...                            ...           ...   \n95  2019-02-01  BetterMe: Calm,Sleep,Meditate    1363010081   \n96  2019-02-01  BetterMe: Yoga for Weightloss    1398851503   \n97  2019-02-01  BetterMe: Calm,Sleep,Meditate    1363010081   \n98  2019-02-01  BetterMe: Yoga for Weightloss    1398851503   \n99  2019-02-01  BetterMe: Calm,Sleep,Meditate    1363010081   \n\n                    Subscription Name  Subscription Apple ID  \\\n0         6-month subscription, 53.99             1429863868   \n1   monthly subscription v2.1.3, 9.99             1391745601   \n2   monthly subscription, v.1.1, 9.99             1412730712   \n3   monthly subscription, v.1.1, 9.99             1412730712   \n4             6-month subscription 54             1447369566   \n..                                ...                    ...   \n95  monthly subscription v2.1.3, 9.99             1391745601   \n96            6-month subscription 54             1447369566   \n97        6-month subscription, 53.99             1429863868   \n98   6-month subscription v1.0, 41.99             1399466229   \n99        6-month subscription, 53.99             1429863868   \n\n    Subscription Group ID Subscription Duration Introductory Price Type  \\\n0                20449027              6 Months              Free Trial   \n1                20449027               1 Month              Free Trial   \n2                20461416               1 Month                     NaN   \n3                20461416               1 Month                     NaN   \n4                20461416              6 Months              Free Trial   \n..                    ...                   ...                     ...   \n95               20449027               1 Month              Free Trial   \n96               20461416              6 Months              Free Trial   \n97               20449027              6 Months                     NaN   \n98               20461416              6 Months                     NaN   \n99               20449027              6 Months              Free Trial   \n\n   Introductory Price Duration  Marketing Opt-In Duration  Customer Price  \\\n0                       7 Days                        NaN            0.00   \n1                       3 Days                        NaN            0.00   \n2                          NaN                        NaN            9.99   \n3                          NaN                        NaN            9.99   \n4                       7 Days                        NaN            0.00   \n..                         ...                        ...             ...   \n95                      3 Days                        NaN            0.00   \n96                      7 Days                        NaN            0.00   \n97                         NaN                        NaN           53.99   \n98                         NaN                        NaN           41.99   \n99                      7 Days                        NaN            0.00   \n\n   Customer Currency  Developer Proceeds Proceeds Currency Preserved Pricing  \\\n0                EUR                 0.0               EUR                     \n1                USD                 0.0               USD                     \n2                USD                 7.0               USD                     \n3                USD                 7.0               USD                     \n4                SEK                 0.0               SEK                     \n..               ...                 ...               ...               ...   \n95               USD                 0.0               USD                     \n96               USD                 0.0               USD                     \n97               USD                37.8               USD                     \n98               USD                29.4               USD                     \n99               USD                 0.0               USD                     \n\n   Proceeds Reason Client  Device Country    Subscriber ID  \\\n0                          iPhone      BE  560340492496101   \n1                          iPhone      US  532285135783592   \n2                          iPhone      US  483262652384927   \n3                          iPhone      US  483240194907948   \n4                          iPhone      SE  483267550395562   \n..             ...    ...     ...     ...              ...   \n95                         iPhone      US  259360591269649   \n96                         iPhone      US  252346098539026   \n97                         iPhone      US  224363393655060   \n98                         iPhone      US  217238678770682   \n99                         iPhone      US  203352392619168   \n\n   Subscriber ID Reset Refund Purchase Date  Units  \n0                  NaN    NaN           NaN      1  \n1                  NaN    NaN           NaN      1  \n2                  NaN    NaN           NaN      1  \n3                  NaN    NaN           NaN      1  \n4                  NaN    NaN           NaN      1  \n..                 ...    ...           ...    ...  \n95                 NaN    NaN           NaN      1  \n96                 NaN    NaN           NaN      1  \n97                 NaN    NaN           NaN      1  \n98                 NaN    NaN           NaN      1  \n99                 NaN    NaN           NaN      1  \n\n[100 rows x 24 columns]",
      "text/html": "<div>\n<style scoped>\n    .dataframe tbody tr th:only-of-type {\n        vertical-align: middle;\n    }\n\n    .dataframe tbody tr th {\n        vertical-align: top;\n    }\n\n    .dataframe thead th {\n        text-align: right;\n    }\n</style>\n<table border=\"1\" class=\"dataframe\">\n  <thead>\n    <tr style=\"text-align: right;\">\n      <th></th>\n      <th>Event Date</th>\n      <th>App Name</th>\n      <th>App Apple ID</th>\n      <th>Subscription Name</th>\n      <th>Subscription Apple ID</th>\n      <th>Subscription Group ID</th>\n      <th>Subscription Duration</th>\n      <th>Introductory Price Type</th>\n      <th>Introductory Price Duration</th>\n      <th>Marketing Opt-In Duration</th>\n      <th>Customer Price</th>\n      <th>Customer Currency</th>\n      <th>Developer Proceeds</th>\n      <th>Proceeds Currency</th>\n      <th>Preserved Pricing</th>\n      <th>Proceeds Reason</th>\n      <th>Client</th>\n      <th>Device</th>\n      <th>Country</th>\n      <th>Subscriber ID</th>\n      <th>Subscriber ID Reset</th>\n      <th>Refund</th>\n      <th>Purchase Date</th>\n      <th>Units</th>\n    </tr>\n  </thead>\n  <tbody>\n    <tr>\n      <th>0</th>\n      <td>2019-02-01</td>\n      <td>BetterMe: Calm,Sleep,Meditate</td>\n      <td>1363010081</td>\n      <td>6-month subscription, 53.99</td>\n      <td>1429863868</td>\n      <td>20449027</td>\n      <td>6 Months</td>\n      <td>Free Trial</td>\n      <td>7 Days</td>\n      <td>NaN</td>\n      <td>0.00</td>\n      <td>EUR</td>\n      <td>0.0</td>\n      <td>EUR</td>\n      <td></td>\n      <td></td>\n      <td></td>\n      <td>iPhone</td>\n      <td>BE</td>\n      <td>560340492496101</td>\n      <td>NaN</td>\n      <td>NaN</td>\n      <td>NaN</td>\n      <td>1</td>\n    </tr>\n    <tr>\n      <th>1</th>\n      <td>2019-02-01</td>\n      <td>BetterMe: Calm,Sleep,Meditate</td>\n      <td>1363010081</td>\n      <td>monthly subscription v2.1.3, 9.99</td>\n      <td>1391745601</td>\n      <td>20449027</td>\n      <td>1 Month</td>\n      <td>Free Trial</td>\n      <td>3 Days</td>\n      <td>NaN</td>\n      <td>0.00</td>\n      <td>USD</td>\n      <td>0.0</td>\n      <td>USD</td>\n      <td></td>\n      <td></td>\n      <td></td>\n      <td>iPhone</td>\n      <td>US</td>\n      <td>532285135783592</td>\n      <td>NaN</td>\n      <td>NaN</td>\n      <td>NaN</td>\n      <td>1</td>\n    </tr>\n    <tr>\n      <th>2</th>\n      <td>2019-02-01</td>\n      <td>BetterMe: Yoga for Weightloss</td>\n      <td>1398851503</td>\n      <td>monthly subscription, v.1.1, 9.99</td>\n      <td>1412730712</td>\n      <td>20461416</td>\n      <td>1 Month</td>\n      <td>NaN</td>\n      <td>NaN</td>\n      <td>NaN</td>\n      <td>9.99</td>\n      <td>USD</td>\n      <td>7.0</td>\n      <td>USD</td>\n      <td></td>\n      <td></td>\n      <td></td>\n      <td>iPhone</td>\n      <td>US</td>\n      <td>483262652384927</td>\n      <td>NaN</td>\n      <td>NaN</td>\n      <td>NaN</td>\n      <td>1</td>\n    </tr>\n    <tr>\n      <th>3</th>\n      <td>2019-02-01</td>\n      <td>BetterMe: Yoga for Weightloss</td>\n      <td>1398851503</td>\n      <td>monthly subscription, v.1.1, 9.99</td>\n      <td>1412730712</td>\n      <td>20461416</td>\n      <td>1 Month</td>\n      <td>NaN</td>\n      <td>NaN</td>\n      <td>NaN</td>\n      <td>9.99</td>\n      <td>USD</td>\n      <td>7.0</td>\n      <td>USD</td>\n      <td></td>\n      <td></td>\n      <td></td>\n      <td>iPhone</td>\n      <td>US</td>\n      <td>483240194907948</td>\n      <td>NaN</td>\n      <td>NaN</td>\n      <td>NaN</td>\n      <td>1</td>\n    </tr>\n    <tr>\n      <th>4</th>\n      <td>2019-02-01</td>\n      <td>BetterMe: Yoga for Weightloss</td>\n      <td>1398851503</td>\n      <td>6-month subscription 54</td>\n      <td>1447369566</td>\n      <td>20461416</td>\n      <td>6 Months</td>\n      <td>Free Trial</td>\n      <td>7 Days</td>\n      <td>NaN</td>\n      <td>0.00</td>\n      <td>SEK</td>\n      <td>0.0</td>\n      <td>SEK</td>\n      <td></td>\n      <td></td>\n      <td></td>\n      <td>iPhone</td>\n      <td>SE</td>\n      <td>483267550395562</td>\n      <td>NaN</td>\n      <td>NaN</td>\n      <td>NaN</td>\n      <td>1</td>\n    </tr>\n    <tr>\n      <th>...</th>\n      <td>...</td>\n      <td>...</td>\n      <td>...</td>\n      <td>...</td>\n      <td>...</td>\n      <td>...</td>\n      <td>...</td>\n      <td>...</td>\n      <td>...</td>\n      <td>...</td>\n      <td>...</td>\n      <td>...</td>\n      <td>...</td>\n      <td>...</td>\n      <td>...</td>\n      <td>...</td>\n      <td>...</td>\n      <td>...</td>\n      <td>...</td>\n      <td>...</td>\n      <td>...</td>\n      <td>...</td>\n      <td>...</td>\n      <td>...</td>\n    </tr>\n    <tr>\n      <th>95</th>\n      <td>2019-02-01</td>\n      <td>BetterMe: Calm,Sleep,Meditate</td>\n      <td>1363010081</td>\n      <td>monthly subscription v2.1.3, 9.99</td>\n      <td>1391745601</td>\n      <td>20449027</td>\n      <td>1 Month</td>\n      <td>Free Trial</td>\n      <td>3 Days</td>\n      <td>NaN</td>\n      <td>0.00</td>\n      <td>USD</td>\n      <td>0.0</td>\n      <td>USD</td>\n      <td></td>\n      <td></td>\n      <td></td>\n      <td>iPhone</td>\n      <td>US</td>\n      <td>259360591269649</td>\n      <td>NaN</td>\n      <td>NaN</td>\n      <td>NaN</td>\n      <td>1</td>\n    </tr>\n    <tr>\n      <th>96</th>\n      <td>2019-02-01</td>\n      <td>BetterMe: Yoga for Weightloss</td>\n      <td>1398851503</td>\n      <td>6-month subscription 54</td>\n      <td>1447369566</td>\n      <td>20461416</td>\n      <td>6 Months</td>\n      <td>Free Trial</td>\n      <td>7 Days</td>\n      <td>NaN</td>\n      <td>0.00</td>\n      <td>USD</td>\n      <td>0.0</td>\n      <td>USD</td>\n      <td></td>\n      <td></td>\n      <td></td>\n      <td>iPhone</td>\n      <td>US</td>\n      <td>252346098539026</td>\n      <td>NaN</td>\n      <td>NaN</td>\n      <td>NaN</td>\n      <td>1</td>\n    </tr>\n    <tr>\n      <th>97</th>\n      <td>2019-02-01</td>\n      <td>BetterMe: Calm,Sleep,Meditate</td>\n      <td>1363010081</td>\n      <td>6-month subscription, 53.99</td>\n      <td>1429863868</td>\n      <td>20449027</td>\n      <td>6 Months</td>\n      <td>NaN</td>\n      <td>NaN</td>\n      <td>NaN</td>\n      <td>53.99</td>\n      <td>USD</td>\n      <td>37.8</td>\n      <td>USD</td>\n      <td></td>\n      <td></td>\n      <td></td>\n      <td>iPhone</td>\n      <td>US</td>\n      <td>224363393655060</td>\n      <td>NaN</td>\n      <td>NaN</td>\n      <td>NaN</td>\n      <td>1</td>\n    </tr>\n    <tr>\n      <th>98</th>\n      <td>2019-02-01</td>\n      <td>BetterMe: Yoga for Weightloss</td>\n      <td>1398851503</td>\n      <td>6-month subscription v1.0, 41.99</td>\n      <td>1399466229</td>\n      <td>20461416</td>\n      <td>6 Months</td>\n      <td>NaN</td>\n      <td>NaN</td>\n      <td>NaN</td>\n      <td>41.99</td>\n      <td>USD</td>\n      <td>29.4</td>\n      <td>USD</td>\n      <td></td>\n      <td></td>\n      <td></td>\n      <td>iPhone</td>\n      <td>US</td>\n      <td>217238678770682</td>\n      <td>NaN</td>\n      <td>NaN</td>\n      <td>NaN</td>\n      <td>1</td>\n    </tr>\n    <tr>\n      <th>99</th>\n      <td>2019-02-01</td>\n      <td>BetterMe: Calm,Sleep,Meditate</td>\n      <td>1363010081</td>\n      <td>6-month subscription, 53.99</td>\n      <td>1429863868</td>\n      <td>20449027</td>\n      <td>6 Months</td>\n      <td>Free Trial</td>\n      <td>7 Days</td>\n      <td>NaN</td>\n      <td>0.00</td>\n      <td>USD</td>\n      <td>0.0</td>\n      <td>USD</td>\n      <td></td>\n      <td></td>\n      <td></td>\n      <td>iPhone</td>\n      <td>US</td>\n      <td>203352392619168</td>\n      <td>NaN</td>\n      <td>NaN</td>\n      <td>NaN</td>\n      <td>1</td>\n    </tr>\n  </tbody>\n</table>\n<p>100 rows × 24 columns</p>\n</div>"
     },
     "execution_count": 142,
     "metadata": {},
     "output_type": "execute_result"
    }
   ],
   "source": [
    "pd.set_option('display.max_columns', None)\n",
    "raw_df.head(100)"
   ],
   "metadata": {
    "collapsed": false,
    "ExecuteTime": {
     "end_time": "2023-10-19T16:35:48.041099300Z",
     "start_time": "2023-10-19T16:35:48.014674Z"
    }
   },
   "id": "ea07322bf415afc0"
  },
  {
   "cell_type": "code",
   "execution_count": 143,
   "outputs": [
    {
     "data": {
      "text/plain": "        Event Date                       App Name  App Apple ID  \\\ncount         7718                           7718  7.718000e+03   \nunique          12                              2           NaN   \ntop     2019-02-10  BetterMe: Yoga for Weightloss           NaN   \nfreq           998                           4870           NaN   \nmean           NaN                            NaN  1.385626e+09   \nstd            NaN                            NaN  1.729590e+07   \nmin            NaN                            NaN  1.363010e+09   \n25%            NaN                            NaN  1.363010e+09   \n50%            NaN                            NaN  1.398852e+09   \n75%            NaN                            NaN  1.398852e+09   \nmax            NaN                            NaN  1.398852e+09   \n\n              Subscription Name  Subscription Apple ID  Subscription Group ID  \\\ncount                      7718           7.718000e+03           7.718000e+03   \nunique                       15                    NaN                    NaN   \ntop     6-month subscription 54                    NaN                    NaN   \nfreq                       1854                    NaN                    NaN   \nmean                        NaN           1.428951e+09           2.045684e+07   \nstd                         NaN           2.217910e+07           5.978526e+03   \nmin                         NaN           1.373728e+09           2.044903e+07   \n25%                         NaN           1.412731e+09           2.044903e+07   \n50%                         NaN           1.429864e+09           2.046142e+07   \n75%                         NaN           1.447370e+09           2.046142e+07   \nmax                         NaN           1.451592e+09           2.046142e+07   \n\n       Subscription Duration Introductory Price Type  \\\ncount                   7718                    3280   \nunique                     4                       1   \ntop                 6 Months              Free Trial   \nfreq                    3704                    3280   \nmean                     NaN                     NaN   \nstd                      NaN                     NaN   \nmin                      NaN                     NaN   \n25%                      NaN                     NaN   \n50%                      NaN                     NaN   \n75%                      NaN                     NaN   \nmax                      NaN                     NaN   \n\n       Introductory Price Duration  Marketing Opt-In Duration  Customer Price  \\\ncount                         3280                        0.0     7718.000000   \nunique                           2                        NaN             NaN   \ntop                         7 Days                        NaN             NaN   \nfreq                          2774                        NaN             NaN   \nmean                           NaN                        NaN      465.872425   \nstd                            NaN                        NaN    10928.236982   \nmin                            NaN                        NaN   -67000.000000   \n25%                            NaN                        NaN        0.000000   \n50%                            NaN                        NaN        2.990000   \n75%                            NaN                        NaN       53.990000   \nmax                            NaN                        NaN   769000.000000   \n\n       Customer Currency  Developer Proceeds Proceeds Currency  \\\ncount               7718         7718.000000              7718   \nunique                45                 NaN                45   \ntop                  USD                 NaN               USD   \nfreq                5212                 NaN              5212   \nmean                 NaN          354.557396               NaN   \nstd                  NaN         7641.928705               NaN   \nmin                  NaN            0.000000               NaN   \n25%                  NaN            0.000000               NaN   \n50%                  NaN            7.000000               NaN   \n75%                  NaN           37.800000               NaN   \nmax                  NaN       538300.000000               NaN   \n\n       Preserved Pricing Proceeds Reason Client  Device Country  \\\ncount               7718            7718   7718    7718    7715   \nunique                 1               1      1       3     114   \ntop                                              iPhone      US   \nfreq                7718            7718   7718    7650    4951   \nmean                 NaN             NaN    NaN     NaN     NaN   \nstd                  NaN             NaN    NaN     NaN     NaN   \nmin                  NaN             NaN    NaN     NaN     NaN   \n25%                  NaN             NaN    NaN     NaN     NaN   \n50%                  NaN             NaN    NaN     NaN     NaN   \n75%                  NaN             NaN    NaN     NaN     NaN   \nmax                  NaN             NaN    NaN     NaN     NaN   \n\n        Subscriber ID Subscriber ID Reset Refund Purchase Date        Units  \ncount    7.718000e+03                 196    443           443  7718.000000  \nunique            NaN                   1      1            54          NaN  \ntop               NaN                 Yes    Yes    2019-02-01          NaN  \nfreq              NaN                 196    443            47          NaN  \nmean     4.841106e+14                 NaN    NaN           NaN     0.999741  \nstd      1.781443e+14                 NaN    NaN           NaN     0.016097  \nmin      1.542772e+14                 NaN    NaN           NaN     0.000000  \n25%      2.733655e+14                 NaN    NaN           NaN     1.000000  \n50%      5.181732e+14                 NaN    NaN           NaN     1.000000  \n75%      6.162830e+14                 NaN    NaN           NaN     1.000000  \nmax      7.912035e+14                 NaN    NaN           NaN     1.000000  ",
      "text/html": "<div>\n<style scoped>\n    .dataframe tbody tr th:only-of-type {\n        vertical-align: middle;\n    }\n\n    .dataframe tbody tr th {\n        vertical-align: top;\n    }\n\n    .dataframe thead th {\n        text-align: right;\n    }\n</style>\n<table border=\"1\" class=\"dataframe\">\n  <thead>\n    <tr style=\"text-align: right;\">\n      <th></th>\n      <th>Event Date</th>\n      <th>App Name</th>\n      <th>App Apple ID</th>\n      <th>Subscription Name</th>\n      <th>Subscription Apple ID</th>\n      <th>Subscription Group ID</th>\n      <th>Subscription Duration</th>\n      <th>Introductory Price Type</th>\n      <th>Introductory Price Duration</th>\n      <th>Marketing Opt-In Duration</th>\n      <th>Customer Price</th>\n      <th>Customer Currency</th>\n      <th>Developer Proceeds</th>\n      <th>Proceeds Currency</th>\n      <th>Preserved Pricing</th>\n      <th>Proceeds Reason</th>\n      <th>Client</th>\n      <th>Device</th>\n      <th>Country</th>\n      <th>Subscriber ID</th>\n      <th>Subscriber ID Reset</th>\n      <th>Refund</th>\n      <th>Purchase Date</th>\n      <th>Units</th>\n    </tr>\n  </thead>\n  <tbody>\n    <tr>\n      <th>count</th>\n      <td>7718</td>\n      <td>7718</td>\n      <td>7.718000e+03</td>\n      <td>7718</td>\n      <td>7.718000e+03</td>\n      <td>7.718000e+03</td>\n      <td>7718</td>\n      <td>3280</td>\n      <td>3280</td>\n      <td>0.0</td>\n      <td>7718.000000</td>\n      <td>7718</td>\n      <td>7718.000000</td>\n      <td>7718</td>\n      <td>7718</td>\n      <td>7718</td>\n      <td>7718</td>\n      <td>7718</td>\n      <td>7715</td>\n      <td>7.718000e+03</td>\n      <td>196</td>\n      <td>443</td>\n      <td>443</td>\n      <td>7718.000000</td>\n    </tr>\n    <tr>\n      <th>unique</th>\n      <td>12</td>\n      <td>2</td>\n      <td>NaN</td>\n      <td>15</td>\n      <td>NaN</td>\n      <td>NaN</td>\n      <td>4</td>\n      <td>1</td>\n      <td>2</td>\n      <td>NaN</td>\n      <td>NaN</td>\n      <td>45</td>\n      <td>NaN</td>\n      <td>45</td>\n      <td>1</td>\n      <td>1</td>\n      <td>1</td>\n      <td>3</td>\n      <td>114</td>\n      <td>NaN</td>\n      <td>1</td>\n      <td>1</td>\n      <td>54</td>\n      <td>NaN</td>\n    </tr>\n    <tr>\n      <th>top</th>\n      <td>2019-02-10</td>\n      <td>BetterMe: Yoga for Weightloss</td>\n      <td>NaN</td>\n      <td>6-month subscription 54</td>\n      <td>NaN</td>\n      <td>NaN</td>\n      <td>6 Months</td>\n      <td>Free Trial</td>\n      <td>7 Days</td>\n      <td>NaN</td>\n      <td>NaN</td>\n      <td>USD</td>\n      <td>NaN</td>\n      <td>USD</td>\n      <td></td>\n      <td></td>\n      <td></td>\n      <td>iPhone</td>\n      <td>US</td>\n      <td>NaN</td>\n      <td>Yes</td>\n      <td>Yes</td>\n      <td>2019-02-01</td>\n      <td>NaN</td>\n    </tr>\n    <tr>\n      <th>freq</th>\n      <td>998</td>\n      <td>4870</td>\n      <td>NaN</td>\n      <td>1854</td>\n      <td>NaN</td>\n      <td>NaN</td>\n      <td>3704</td>\n      <td>3280</td>\n      <td>2774</td>\n      <td>NaN</td>\n      <td>NaN</td>\n      <td>5212</td>\n      <td>NaN</td>\n      <td>5212</td>\n      <td>7718</td>\n      <td>7718</td>\n      <td>7718</td>\n      <td>7650</td>\n      <td>4951</td>\n      <td>NaN</td>\n      <td>196</td>\n      <td>443</td>\n      <td>47</td>\n      <td>NaN</td>\n    </tr>\n    <tr>\n      <th>mean</th>\n      <td>NaN</td>\n      <td>NaN</td>\n      <td>1.385626e+09</td>\n      <td>NaN</td>\n      <td>1.428951e+09</td>\n      <td>2.045684e+07</td>\n      <td>NaN</td>\n      <td>NaN</td>\n      <td>NaN</td>\n      <td>NaN</td>\n      <td>465.872425</td>\n      <td>NaN</td>\n      <td>354.557396</td>\n      <td>NaN</td>\n      <td>NaN</td>\n      <td>NaN</td>\n      <td>NaN</td>\n      <td>NaN</td>\n      <td>NaN</td>\n      <td>4.841106e+14</td>\n      <td>NaN</td>\n      <td>NaN</td>\n      <td>NaN</td>\n      <td>0.999741</td>\n    </tr>\n    <tr>\n      <th>std</th>\n      <td>NaN</td>\n      <td>NaN</td>\n      <td>1.729590e+07</td>\n      <td>NaN</td>\n      <td>2.217910e+07</td>\n      <td>5.978526e+03</td>\n      <td>NaN</td>\n      <td>NaN</td>\n      <td>NaN</td>\n      <td>NaN</td>\n      <td>10928.236982</td>\n      <td>NaN</td>\n      <td>7641.928705</td>\n      <td>NaN</td>\n      <td>NaN</td>\n      <td>NaN</td>\n      <td>NaN</td>\n      <td>NaN</td>\n      <td>NaN</td>\n      <td>1.781443e+14</td>\n      <td>NaN</td>\n      <td>NaN</td>\n      <td>NaN</td>\n      <td>0.016097</td>\n    </tr>\n    <tr>\n      <th>min</th>\n      <td>NaN</td>\n      <td>NaN</td>\n      <td>1.363010e+09</td>\n      <td>NaN</td>\n      <td>1.373728e+09</td>\n      <td>2.044903e+07</td>\n      <td>NaN</td>\n      <td>NaN</td>\n      <td>NaN</td>\n      <td>NaN</td>\n      <td>-67000.000000</td>\n      <td>NaN</td>\n      <td>0.000000</td>\n      <td>NaN</td>\n      <td>NaN</td>\n      <td>NaN</td>\n      <td>NaN</td>\n      <td>NaN</td>\n      <td>NaN</td>\n      <td>1.542772e+14</td>\n      <td>NaN</td>\n      <td>NaN</td>\n      <td>NaN</td>\n      <td>0.000000</td>\n    </tr>\n    <tr>\n      <th>25%</th>\n      <td>NaN</td>\n      <td>NaN</td>\n      <td>1.363010e+09</td>\n      <td>NaN</td>\n      <td>1.412731e+09</td>\n      <td>2.044903e+07</td>\n      <td>NaN</td>\n      <td>NaN</td>\n      <td>NaN</td>\n      <td>NaN</td>\n      <td>0.000000</td>\n      <td>NaN</td>\n      <td>0.000000</td>\n      <td>NaN</td>\n      <td>NaN</td>\n      <td>NaN</td>\n      <td>NaN</td>\n      <td>NaN</td>\n      <td>NaN</td>\n      <td>2.733655e+14</td>\n      <td>NaN</td>\n      <td>NaN</td>\n      <td>NaN</td>\n      <td>1.000000</td>\n    </tr>\n    <tr>\n      <th>50%</th>\n      <td>NaN</td>\n      <td>NaN</td>\n      <td>1.398852e+09</td>\n      <td>NaN</td>\n      <td>1.429864e+09</td>\n      <td>2.046142e+07</td>\n      <td>NaN</td>\n      <td>NaN</td>\n      <td>NaN</td>\n      <td>NaN</td>\n      <td>2.990000</td>\n      <td>NaN</td>\n      <td>7.000000</td>\n      <td>NaN</td>\n      <td>NaN</td>\n      <td>NaN</td>\n      <td>NaN</td>\n      <td>NaN</td>\n      <td>NaN</td>\n      <td>5.181732e+14</td>\n      <td>NaN</td>\n      <td>NaN</td>\n      <td>NaN</td>\n      <td>1.000000</td>\n    </tr>\n    <tr>\n      <th>75%</th>\n      <td>NaN</td>\n      <td>NaN</td>\n      <td>1.398852e+09</td>\n      <td>NaN</td>\n      <td>1.447370e+09</td>\n      <td>2.046142e+07</td>\n      <td>NaN</td>\n      <td>NaN</td>\n      <td>NaN</td>\n      <td>NaN</td>\n      <td>53.990000</td>\n      <td>NaN</td>\n      <td>37.800000</td>\n      <td>NaN</td>\n      <td>NaN</td>\n      <td>NaN</td>\n      <td>NaN</td>\n      <td>NaN</td>\n      <td>NaN</td>\n      <td>6.162830e+14</td>\n      <td>NaN</td>\n      <td>NaN</td>\n      <td>NaN</td>\n      <td>1.000000</td>\n    </tr>\n    <tr>\n      <th>max</th>\n      <td>NaN</td>\n      <td>NaN</td>\n      <td>1.398852e+09</td>\n      <td>NaN</td>\n      <td>1.451592e+09</td>\n      <td>2.046142e+07</td>\n      <td>NaN</td>\n      <td>NaN</td>\n      <td>NaN</td>\n      <td>NaN</td>\n      <td>769000.000000</td>\n      <td>NaN</td>\n      <td>538300.000000</td>\n      <td>NaN</td>\n      <td>NaN</td>\n      <td>NaN</td>\n      <td>NaN</td>\n      <td>NaN</td>\n      <td>NaN</td>\n      <td>7.912035e+14</td>\n      <td>NaN</td>\n      <td>NaN</td>\n      <td>NaN</td>\n      <td>1.000000</td>\n    </tr>\n  </tbody>\n</table>\n</div>"
     },
     "execution_count": 143,
     "metadata": {},
     "output_type": "execute_result"
    }
   ],
   "source": [
    "raw_df.describe(include='all')"
   ],
   "metadata": {
    "collapsed": false,
    "ExecuteTime": {
     "end_time": "2023-10-19T16:35:48.121090Z",
     "start_time": "2023-10-19T16:35:48.037109100Z"
    }
   },
   "id": "a9f4b67f3b9c730"
  },
  {
   "cell_type": "code",
   "execution_count": 144,
   "outputs": [],
   "source": [
    "#raw_df.dtypes"
   ],
   "metadata": {
    "collapsed": false,
    "ExecuteTime": {
     "end_time": "2023-10-19T16:35:48.121090Z",
     "start_time": "2023-10-19T16:35:48.091993600Z"
    }
   },
   "id": "62b59523c4e8ce75"
  },
  {
   "cell_type": "code",
   "execution_count": 145,
   "outputs": [],
   "source": [
    "#raw_df.columns"
   ],
   "metadata": {
    "collapsed": false,
    "ExecuteTime": {
     "end_time": "2023-10-19T16:35:48.121090Z",
     "start_time": "2023-10-19T16:35:48.095500700Z"
    }
   },
   "id": "4eead9f563f9a313"
  },
  {
   "cell_type": "code",
   "execution_count": 146,
   "outputs": [],
   "source": [
    "df = raw_df.copy()\n",
    "df['Event Date'] = pd.to_datetime(df['Event Date'], format=\"%Y-%m-%d\")\n",
    "df['Purchase Date'] = pd.to_datetime(df['Purchase Date'], errors='coerce') #convert to datetime with NaN in the col\n",
    "#df['Event Date'].unique()\n",
    "#df['Purchase Date'].unique()"
   ],
   "metadata": {
    "collapsed": false,
    "ExecuteTime": {
     "end_time": "2023-10-19T16:35:48.172146400Z",
     "start_time": "2023-10-19T16:35:48.101502400Z"
    }
   },
   "id": "aaec0217ccd95367"
  },
  {
   "cell_type": "code",
   "execution_count": 147,
   "outputs": [
    {
     "data": {
      "text/plain": "{'AED': 3.67304,\n 'AFN': 75.202857,\n 'ALL': 100.140668,\n 'AMD': 401.680849,\n 'ANG': 1.802404,\n 'AOA': 826.452933,\n 'ARS': 350.0568,\n 'AUD': 1.582904,\n 'AWG': 1.8,\n 'AZN': 1.7,\n 'BAM': 1.852882,\n 'BBD': 2,\n 'BDT': 110.255837,\n 'BGN': 1.8559,\n 'BHD': 0.376975,\n 'BIF': 2837.881393,\n 'BMD': 1,\n 'BND': 1.370003,\n 'BOB': 6.91024,\n 'BRL': 5.0575,\n 'BSD': 1,\n 'BTC': 3.5214857e-05,\n 'BTN': 83.274351,\n 'BWP': 13.681084,\n 'BYN': 3.294791,\n 'BZD': 2.015831,\n 'CAD': 1.37173,\n 'CDF': 2481.092076,\n 'CHF': 0.898847,\n 'CLF': 0.034079,\n 'CLP': 940.33,\n 'CNH': 7.325997,\n 'CNY': 7.3144,\n 'COP': 4206.81035,\n 'CRC': 531.768093,\n 'CUC': 1,\n 'CUP': 25.75,\n 'CVE': 104.46855,\n 'CZK': 23.417399,\n 'DJF': 177.827972,\n 'DKK': 7.08002,\n 'DOP': 56.739003,\n 'DZD': 137.832295,\n 'EGP': 30.919,\n 'ERN': 15,\n 'ETB': 55.729507,\n 'EUR': 0.948866,\n 'FJD': 2.28685,\n 'FKP': 0.823603,\n 'GBP': 0.823603,\n 'GEL': 2.69,\n 'GGP': 0.823603,\n 'GHS': 11.770613,\n 'GIP': 0.823603,\n 'GMD': 65.85,\n 'GNF': 8590.813359,\n 'GTQ': 7.846258,\n 'GYD': 209.512655,\n 'HKD': 7.827503,\n 'HNL': 24.689355,\n 'HRK': 7.14923,\n 'HTG': 134.006619,\n 'HUF': 364.516244,\n 'IDR': 15794.65,\n 'ILS': 4.02664,\n 'IMP': 0.823603,\n 'INR': 83.27255,\n 'IQD': 1310.026223,\n 'IRR': 42262.5,\n 'ISK': 138.82,\n 'JEP': 0.823603,\n 'JMD': 155.786851,\n 'JOD': 0.7093,\n 'JPY': 149.757625,\n 'KES': 149.9,\n 'KGS': 89.32,\n 'KHR': 4126.799614,\n 'KMF': 465.450054,\n 'KPW': 900,\n 'KRW': 1356.916272,\n 'KWD': 0.309306,\n 'KYD': 0.833408,\n 'KZT': 479.155246,\n 'LAK': 20656.673171,\n 'LBP': 15030.933544,\n 'LKR': 324.779957,\n 'LRD': 186.900006,\n 'LSL': 18.840931,\n 'LYD': 4.895118,\n 'MAD': 10.263327,\n 'MDL': 18.08981,\n 'MGA': 4535.355333,\n 'MKD': 58.295363,\n 'MMK': 2100.145006,\n 'MNT': 3450,\n 'MOP': 8.062281,\n 'MRU': 39.212409,\n 'MUR': 44.303137,\n 'MVR': 15.375,\n 'MWK': 1154.978504,\n 'MXN': 18.257,\n 'MYR': 4.7445,\n 'MZN': 63.899991,\n 'NAD': 18.81,\n 'NGN': 774.94,\n 'NIO': 36.596188,\n 'NOK': 11.067716,\n 'NPR': 133.237339,\n 'NZD': 1.710153,\n 'OMR': 0.384948,\n 'PAB': 1,\n 'PEN': 3.845637,\n 'PGK': 3.737191,\n 'PHP': 56.859492,\n 'PKR': 276.375,\n 'PLN': 4.22611,\n 'PYG': 7437.871855,\n 'QAR': 3.6405,\n 'RON': 4.7176,\n 'RSD': 111.187,\n 'RUB': 97.474986,\n 'RWF': 1221.253937,\n 'SAR': 3.751009,\n 'SBD': 8.433052,\n 'SCR': 13.032997,\n 'SDG': 601,\n 'SEK': 11.023584,\n 'SGD': 1.373383,\n 'SHP': 0.823603,\n 'SLL': 20969.5,\n 'SOS': 571.143373,\n 'SRD': 38.1445,\n 'SSP': 130.26,\n 'STD': 22281.8,\n 'STN': 23.290505,\n 'SVC': 8.749982,\n 'SYP': 2512.53,\n 'SZL': 18.854109,\n 'THB': 36.4095,\n 'TJS': 10.975562,\n 'TMT': 3.5,\n 'TND': 3.17,\n 'TOP': 2.397425,\n 'TRY': 28.048499,\n 'TTD': 6.786132,\n 'TWD': 32.415999,\n 'TZS': 2507.5,\n 'UAH': 36.616913,\n 'UGX': 3762.055944,\n 'USD': 1,\n 'UYU': 39.918503,\n 'UZS': 12209.358263,\n 'VES': 34.769112,\n 'VND': 24500,\n 'VUV': 118.722,\n 'WST': 2.7185,\n 'XAF': 622.415198,\n 'XAG': 0.04376196,\n 'XAU': 0.00051278,\n 'XCD': 2.70255,\n 'XDR': 0.763208,\n 'XOF': 622.415198,\n 'XPD': 0.00088469,\n 'XPF': 113.229815,\n 'XPT': 0.00113058,\n 'YER': 250.300053,\n 'ZAR': 18.9952,\n 'ZMW': 21.620316,\n 'ZWL': 322}"
     },
     "execution_count": 147,
     "metadata": {},
     "output_type": "execute_result"
    }
   ],
   "source": [
    "#import currency rates\n",
    "# Currency exchange API can be used if better precision is needed\n",
    "import json\n",
    "\n",
    "with open('rates.json', 'r') as f:\n",
    "    rates = json.load(f)\n",
    "\n",
    "rates"
   ],
   "metadata": {
    "collapsed": false,
    "ExecuteTime": {
     "end_time": "2023-10-19T16:35:48.173146400Z",
     "start_time": "2023-10-19T16:35:48.113742100Z"
    }
   },
   "id": "8e3e287578426213"
  },
  {
   "cell_type": "code",
   "execution_count": 148,
   "outputs": [],
   "source": [
    "def convert_to_usd(amount, currency, rates_dict):\n",
    "    if currency == 'USD' or amount == 0:\n",
    "        return amount\n",
    "    else:\n",
    "        rate = rates.get(currency, 1)  # Default to a rate of 1 if the currency rate isn't available\n",
    "        return amount * rate"
   ],
   "metadata": {
    "collapsed": false,
    "ExecuteTime": {
     "end_time": "2023-10-19T16:35:48.175145400Z",
     "start_time": "2023-10-19T16:35:48.123437800Z"
    }
   },
   "id": "146110f791593776"
  },
  {
   "cell_type": "code",
   "execution_count": 149,
   "outputs": [],
   "source": [
    "df['customer_currency_usd'] = df['Customer Price'].copy()\n",
    "df['customer_currency_usd'] = df.apply(\n",
    "    lambda row: convert_to_usd(\n",
    "        row['Customer Price'],\n",
    "        row['Customer Currency'],\n",
    "        rates\n",
    "    ), axis=1\n",
    ")\n",
    "\n",
    "df['developer_proceeds_usd'] = df['Developer Proceeds'].copy()\n",
    "df['developer_proceeds_usd'] = df.apply(\n",
    "    lambda row: convert_to_usd(\n",
    "        row['Developer Proceeds'],\n",
    "        row['Proceeds Currency'],\n",
    "        rates\n",
    "    ), axis=1\n",
    ")\n",
    "\n",
    "#df"
   ],
   "metadata": {
    "collapsed": false,
    "ExecuteTime": {
     "end_time": "2023-10-19T16:35:48.358377400Z",
     "start_time": "2023-10-19T16:35:48.128947Z"
    }
   },
   "id": "9e39150fd4ac475d"
  },
  {
   "cell_type": "code",
   "execution_count": 150,
   "outputs": [],
   "source": [
    "#df[(df['Customer Price'] != 0) & (df['Customer Currency'] != 'USD')]  # to check the rows that got converted"
   ],
   "metadata": {
    "collapsed": false,
    "ExecuteTime": {
     "end_time": "2023-10-19T16:35:48.358377400Z",
     "start_time": "2023-10-19T16:35:48.267441200Z"
    }
   },
   "id": "b825310a8b7c86dc"
  },
  {
   "cell_type": "code",
   "execution_count": 151,
   "outputs": [
    {
     "data": {
      "text/plain": "     Event Date                       App Name  App Apple ID  \\\n0    2019-02-01  BetterMe: Calm,Sleep,Meditate    1363010081   \n1    2019-02-01  BetterMe: Calm,Sleep,Meditate    1363010081   \n2    2019-02-01  BetterMe: Yoga for Weightloss    1398851503   \n3    2019-02-01  BetterMe: Yoga for Weightloss    1398851503   \n4    2019-02-01  BetterMe: Yoga for Weightloss    1398851503   \n...         ...                            ...           ...   \n7713 2019-02-10  BetterMe: Yoga for Weightloss    1398851503   \n7714 2019-02-10  BetterMe: Yoga for Weightloss    1398851503   \n7715 2019-02-10  BetterMe: Yoga for Weightloss    1398851503   \n7716 2019-02-10  BetterMe: Yoga for Weightloss    1398851503   \n7717 2019-02-10  BetterMe: Yoga for Weightloss    1398851503   \n\n                      Subscription Name  Subscription Apple ID  \\\n0           6-month subscription, 53.99             1429863868   \n1     monthly subscription v2.1.3, 9.99             1391745601   \n2     monthly subscription, v.1.1, 9.99             1412730712   \n3     monthly subscription, v.1.1, 9.99             1412730712   \n4               6-month subscription 54             1447369566   \n...                                 ...                    ...   \n7713           Weekly 9.99usd, 7d trial             1451591605   \n7714           Weekly 9.99usd, 7d trial             1451591605   \n7715           Weekly 9.99usd, 7d trial             1451591605   \n7716           Weekly 9.99usd, 7d trial             1451591605   \n7717           Weekly 9.99usd, 7d trial             1451591605   \n\n      Subscription Group ID Subscription Duration Introductory Price Type  \\\n0                  20449027              6 Months              Free Trial   \n1                  20449027               1 Month              Free Trial   \n2                  20461416               1 Month                     NaN   \n3                  20461416               1 Month                     NaN   \n4                  20461416              6 Months              Free Trial   \n...                     ...                   ...                     ...   \n7713               20461416                7 Days              Free Trial   \n7714               20461416                7 Days              Free Trial   \n7715               20461416                7 Days              Free Trial   \n7716               20461416                7 Days              Free Trial   \n7717               20461416                7 Days              Free Trial   \n\n     Introductory Price Duration  Marketing Opt-In Duration  Customer Price  \\\n0                         7 Days                        NaN            0.00   \n1                         3 Days                        NaN            0.00   \n2                            NaN                        NaN            9.99   \n3                            NaN                        NaN            9.99   \n4                         7 Days                        NaN            0.00   \n...                          ...                        ...             ...   \n7713                      7 Days                        NaN            0.00   \n7714                      7 Days                        NaN            0.00   \n7715                      7 Days                        NaN            0.00   \n7716                      7 Days                        NaN            0.00   \n7717                      7 Days                        NaN            0.00   \n\n     Customer Currency  Developer Proceeds Proceeds Currency  \\\n0                  EUR                 0.0               EUR   \n1                  USD                 0.0               USD   \n2                  USD                 7.0               USD   \n3                  USD                 7.0               USD   \n4                  SEK                 0.0               SEK   \n...                ...                 ...               ...   \n7713               USD                 0.0               USD   \n7714               USD                 0.0               USD   \n7715               GBP                 0.0               GBP   \n7716               USD                 0.0               USD   \n7717               USD                 0.0               USD   \n\n      Preserved Pricing Proceeds Reason Client  Device Country  \\\n0                 False                         iPhone      BE   \n1                 False                         iPhone      US   \n2                 False                         iPhone      US   \n3                 False                         iPhone      US   \n4                 False                         iPhone      SE   \n...                 ...             ...    ...     ...     ...   \n7713              False                         iPhone      US   \n7714              False                         iPhone      US   \n7715              False                         iPhone      GB   \n7716              False                         iPhone      US   \n7717              False                         iPhone      US   \n\n        Subscriber ID  Subscriber ID Reset  Refund Purchase Date  Units  \\\n0     560340492496101                False   False           NaT      1   \n1     532285135783592                False   False           NaT      1   \n2     483262652384927                False   False           NaT      1   \n3     483240194907948                False   False           NaT      1   \n4     483267550395562                False   False           NaT      1   \n...               ...                  ...     ...           ...    ...   \n7713  245310777399669                False   False           NaT      1   \n7714  203354638047297                False   False           NaT      1   \n7715  161362785118957                False   False           NaT      1   \n7716  665277309710624                False   False           NaT      1   \n7717  658234922767949                False   False           NaT      1   \n\n      customer_currency_usd  developer_proceeds_usd  \n0                      0.00                     0.0  \n1                      0.00                     0.0  \n2                      9.99                     7.0  \n3                      9.99                     7.0  \n4                      0.00                     0.0  \n...                     ...                     ...  \n7713                   0.00                     0.0  \n7714                   0.00                     0.0  \n7715                   0.00                     0.0  \n7716                   0.00                     0.0  \n7717                   0.00                     0.0  \n\n[7718 rows x 26 columns]",
      "text/html": "<div>\n<style scoped>\n    .dataframe tbody tr th:only-of-type {\n        vertical-align: middle;\n    }\n\n    .dataframe tbody tr th {\n        vertical-align: top;\n    }\n\n    .dataframe thead th {\n        text-align: right;\n    }\n</style>\n<table border=\"1\" class=\"dataframe\">\n  <thead>\n    <tr style=\"text-align: right;\">\n      <th></th>\n      <th>Event Date</th>\n      <th>App Name</th>\n      <th>App Apple ID</th>\n      <th>Subscription Name</th>\n      <th>Subscription Apple ID</th>\n      <th>Subscription Group ID</th>\n      <th>Subscription Duration</th>\n      <th>Introductory Price Type</th>\n      <th>Introductory Price Duration</th>\n      <th>Marketing Opt-In Duration</th>\n      <th>Customer Price</th>\n      <th>Customer Currency</th>\n      <th>Developer Proceeds</th>\n      <th>Proceeds Currency</th>\n      <th>Preserved Pricing</th>\n      <th>Proceeds Reason</th>\n      <th>Client</th>\n      <th>Device</th>\n      <th>Country</th>\n      <th>Subscriber ID</th>\n      <th>Subscriber ID Reset</th>\n      <th>Refund</th>\n      <th>Purchase Date</th>\n      <th>Units</th>\n      <th>customer_currency_usd</th>\n      <th>developer_proceeds_usd</th>\n    </tr>\n  </thead>\n  <tbody>\n    <tr>\n      <th>0</th>\n      <td>2019-02-01</td>\n      <td>BetterMe: Calm,Sleep,Meditate</td>\n      <td>1363010081</td>\n      <td>6-month subscription, 53.99</td>\n      <td>1429863868</td>\n      <td>20449027</td>\n      <td>6 Months</td>\n      <td>Free Trial</td>\n      <td>7 Days</td>\n      <td>NaN</td>\n      <td>0.00</td>\n      <td>EUR</td>\n      <td>0.0</td>\n      <td>EUR</td>\n      <td>False</td>\n      <td></td>\n      <td></td>\n      <td>iPhone</td>\n      <td>BE</td>\n      <td>560340492496101</td>\n      <td>False</td>\n      <td>False</td>\n      <td>NaT</td>\n      <td>1</td>\n      <td>0.00</td>\n      <td>0.0</td>\n    </tr>\n    <tr>\n      <th>1</th>\n      <td>2019-02-01</td>\n      <td>BetterMe: Calm,Sleep,Meditate</td>\n      <td>1363010081</td>\n      <td>monthly subscription v2.1.3, 9.99</td>\n      <td>1391745601</td>\n      <td>20449027</td>\n      <td>1 Month</td>\n      <td>Free Trial</td>\n      <td>3 Days</td>\n      <td>NaN</td>\n      <td>0.00</td>\n      <td>USD</td>\n      <td>0.0</td>\n      <td>USD</td>\n      <td>False</td>\n      <td></td>\n      <td></td>\n      <td>iPhone</td>\n      <td>US</td>\n      <td>532285135783592</td>\n      <td>False</td>\n      <td>False</td>\n      <td>NaT</td>\n      <td>1</td>\n      <td>0.00</td>\n      <td>0.0</td>\n    </tr>\n    <tr>\n      <th>2</th>\n      <td>2019-02-01</td>\n      <td>BetterMe: Yoga for Weightloss</td>\n      <td>1398851503</td>\n      <td>monthly subscription, v.1.1, 9.99</td>\n      <td>1412730712</td>\n      <td>20461416</td>\n      <td>1 Month</td>\n      <td>NaN</td>\n      <td>NaN</td>\n      <td>NaN</td>\n      <td>9.99</td>\n      <td>USD</td>\n      <td>7.0</td>\n      <td>USD</td>\n      <td>False</td>\n      <td></td>\n      <td></td>\n      <td>iPhone</td>\n      <td>US</td>\n      <td>483262652384927</td>\n      <td>False</td>\n      <td>False</td>\n      <td>NaT</td>\n      <td>1</td>\n      <td>9.99</td>\n      <td>7.0</td>\n    </tr>\n    <tr>\n      <th>3</th>\n      <td>2019-02-01</td>\n      <td>BetterMe: Yoga for Weightloss</td>\n      <td>1398851503</td>\n      <td>monthly subscription, v.1.1, 9.99</td>\n      <td>1412730712</td>\n      <td>20461416</td>\n      <td>1 Month</td>\n      <td>NaN</td>\n      <td>NaN</td>\n      <td>NaN</td>\n      <td>9.99</td>\n      <td>USD</td>\n      <td>7.0</td>\n      <td>USD</td>\n      <td>False</td>\n      <td></td>\n      <td></td>\n      <td>iPhone</td>\n      <td>US</td>\n      <td>483240194907948</td>\n      <td>False</td>\n      <td>False</td>\n      <td>NaT</td>\n      <td>1</td>\n      <td>9.99</td>\n      <td>7.0</td>\n    </tr>\n    <tr>\n      <th>4</th>\n      <td>2019-02-01</td>\n      <td>BetterMe: Yoga for Weightloss</td>\n      <td>1398851503</td>\n      <td>6-month subscription 54</td>\n      <td>1447369566</td>\n      <td>20461416</td>\n      <td>6 Months</td>\n      <td>Free Trial</td>\n      <td>7 Days</td>\n      <td>NaN</td>\n      <td>0.00</td>\n      <td>SEK</td>\n      <td>0.0</td>\n      <td>SEK</td>\n      <td>False</td>\n      <td></td>\n      <td></td>\n      <td>iPhone</td>\n      <td>SE</td>\n      <td>483267550395562</td>\n      <td>False</td>\n      <td>False</td>\n      <td>NaT</td>\n      <td>1</td>\n      <td>0.00</td>\n      <td>0.0</td>\n    </tr>\n    <tr>\n      <th>...</th>\n      <td>...</td>\n      <td>...</td>\n      <td>...</td>\n      <td>...</td>\n      <td>...</td>\n      <td>...</td>\n      <td>...</td>\n      <td>...</td>\n      <td>...</td>\n      <td>...</td>\n      <td>...</td>\n      <td>...</td>\n      <td>...</td>\n      <td>...</td>\n      <td>...</td>\n      <td>...</td>\n      <td>...</td>\n      <td>...</td>\n      <td>...</td>\n      <td>...</td>\n      <td>...</td>\n      <td>...</td>\n      <td>...</td>\n      <td>...</td>\n      <td>...</td>\n      <td>...</td>\n    </tr>\n    <tr>\n      <th>7713</th>\n      <td>2019-02-10</td>\n      <td>BetterMe: Yoga for Weightloss</td>\n      <td>1398851503</td>\n      <td>Weekly 9.99usd, 7d trial</td>\n      <td>1451591605</td>\n      <td>20461416</td>\n      <td>7 Days</td>\n      <td>Free Trial</td>\n      <td>7 Days</td>\n      <td>NaN</td>\n      <td>0.00</td>\n      <td>USD</td>\n      <td>0.0</td>\n      <td>USD</td>\n      <td>False</td>\n      <td></td>\n      <td></td>\n      <td>iPhone</td>\n      <td>US</td>\n      <td>245310777399669</td>\n      <td>False</td>\n      <td>False</td>\n      <td>NaT</td>\n      <td>1</td>\n      <td>0.00</td>\n      <td>0.0</td>\n    </tr>\n    <tr>\n      <th>7714</th>\n      <td>2019-02-10</td>\n      <td>BetterMe: Yoga for Weightloss</td>\n      <td>1398851503</td>\n      <td>Weekly 9.99usd, 7d trial</td>\n      <td>1451591605</td>\n      <td>20461416</td>\n      <td>7 Days</td>\n      <td>Free Trial</td>\n      <td>7 Days</td>\n      <td>NaN</td>\n      <td>0.00</td>\n      <td>USD</td>\n      <td>0.0</td>\n      <td>USD</td>\n      <td>False</td>\n      <td></td>\n      <td></td>\n      <td>iPhone</td>\n      <td>US</td>\n      <td>203354638047297</td>\n      <td>False</td>\n      <td>False</td>\n      <td>NaT</td>\n      <td>1</td>\n      <td>0.00</td>\n      <td>0.0</td>\n    </tr>\n    <tr>\n      <th>7715</th>\n      <td>2019-02-10</td>\n      <td>BetterMe: Yoga for Weightloss</td>\n      <td>1398851503</td>\n      <td>Weekly 9.99usd, 7d trial</td>\n      <td>1451591605</td>\n      <td>20461416</td>\n      <td>7 Days</td>\n      <td>Free Trial</td>\n      <td>7 Days</td>\n      <td>NaN</td>\n      <td>0.00</td>\n      <td>GBP</td>\n      <td>0.0</td>\n      <td>GBP</td>\n      <td>False</td>\n      <td></td>\n      <td></td>\n      <td>iPhone</td>\n      <td>GB</td>\n      <td>161362785118957</td>\n      <td>False</td>\n      <td>False</td>\n      <td>NaT</td>\n      <td>1</td>\n      <td>0.00</td>\n      <td>0.0</td>\n    </tr>\n    <tr>\n      <th>7716</th>\n      <td>2019-02-10</td>\n      <td>BetterMe: Yoga for Weightloss</td>\n      <td>1398851503</td>\n      <td>Weekly 9.99usd, 7d trial</td>\n      <td>1451591605</td>\n      <td>20461416</td>\n      <td>7 Days</td>\n      <td>Free Trial</td>\n      <td>7 Days</td>\n      <td>NaN</td>\n      <td>0.00</td>\n      <td>USD</td>\n      <td>0.0</td>\n      <td>USD</td>\n      <td>False</td>\n      <td></td>\n      <td></td>\n      <td>iPhone</td>\n      <td>US</td>\n      <td>665277309710624</td>\n      <td>False</td>\n      <td>False</td>\n      <td>NaT</td>\n      <td>1</td>\n      <td>0.00</td>\n      <td>0.0</td>\n    </tr>\n    <tr>\n      <th>7717</th>\n      <td>2019-02-10</td>\n      <td>BetterMe: Yoga for Weightloss</td>\n      <td>1398851503</td>\n      <td>Weekly 9.99usd, 7d trial</td>\n      <td>1451591605</td>\n      <td>20461416</td>\n      <td>7 Days</td>\n      <td>Free Trial</td>\n      <td>7 Days</td>\n      <td>NaN</td>\n      <td>0.00</td>\n      <td>USD</td>\n      <td>0.0</td>\n      <td>USD</td>\n      <td>False</td>\n      <td></td>\n      <td></td>\n      <td>iPhone</td>\n      <td>US</td>\n      <td>658234922767949</td>\n      <td>False</td>\n      <td>False</td>\n      <td>NaT</td>\n      <td>1</td>\n      <td>0.00</td>\n      <td>0.0</td>\n    </tr>\n  </tbody>\n</table>\n<p>7718 rows × 26 columns</p>\n</div>"
     },
     "execution_count": 151,
     "metadata": {},
     "output_type": "execute_result"
    }
   ],
   "source": [
    "# convert all Yes-blank columns to boolean \n",
    "df['Preserved Pricing'] = df['Preserved Pricing'] == 0\n",
    "df['Subscriber ID Reset'] = df['Subscriber ID Reset'] == 0\n",
    "df['Refund'] = df['Refund'] == 0\n",
    "\n",
    "df"
   ],
   "metadata": {
    "collapsed": false,
    "ExecuteTime": {
     "end_time": "2023-10-19T16:35:48.358377400Z",
     "start_time": "2023-10-19T16:35:48.272644Z"
    }
   },
   "id": "f6a6dc1b8a06f4fc"
  },
  {
   "cell_type": "code",
   "execution_count": 165,
   "outputs": [
    {
     "data": {
      "text/plain": "     event_date                       app_name  app_apple_id  \\\n0    2019-02-01  BetterMe: Calm,Sleep,Meditate    1363010081   \n1    2019-02-01  BetterMe: Calm,Sleep,Meditate    1363010081   \n2    2019-02-01  BetterMe: Yoga for Weightloss    1398851503   \n3    2019-02-01  BetterMe: Yoga for Weightloss    1398851503   \n4    2019-02-01  BetterMe: Yoga for Weightloss    1398851503   \n...         ...                            ...           ...   \n7713 2019-02-10  BetterMe: Yoga for Weightloss    1398851503   \n7714 2019-02-10  BetterMe: Yoga for Weightloss    1398851503   \n7715 2019-02-10  BetterMe: Yoga for Weightloss    1398851503   \n7716 2019-02-10  BetterMe: Yoga for Weightloss    1398851503   \n7717 2019-02-10  BetterMe: Yoga for Weightloss    1398851503   \n\n                      subscription_name  subscription_apple_id  \\\n0           6-month subscription, 53.99             1429863868   \n1     monthly subscription v2.1.3, 9.99             1391745601   \n2     monthly subscription, v.1.1, 9.99             1412730712   \n3     monthly subscription, v.1.1, 9.99             1412730712   \n4               6-month subscription 54             1447369566   \n...                                 ...                    ...   \n7713           Weekly 9.99usd, 7d trial             1451591605   \n7714           Weekly 9.99usd, 7d trial             1451591605   \n7715           Weekly 9.99usd, 7d trial             1451591605   \n7716           Weekly 9.99usd, 7d trial             1451591605   \n7717           Weekly 9.99usd, 7d trial             1451591605   \n\n      subscription_group_id subscription_duration introductory_price_type  \\\n0                  20449027              6 Months              Free Trial   \n1                  20449027               1 Month              Free Trial   \n2                  20461416               1 Month                    None   \n3                  20461416               1 Month                    None   \n4                  20461416              6 Months              Free Trial   \n...                     ...                   ...                     ...   \n7713               20461416                7 Days              Free Trial   \n7714               20461416                7 Days              Free Trial   \n7715               20461416                7 Days              Free Trial   \n7716               20461416                7 Days              Free Trial   \n7717               20461416                7 Days              Free Trial   \n\n     introductory_price_duration marketing_opt_in_duration  customer_price  \\\n0                         7 Days                      None            0.00   \n1                         3 Days                      None            0.00   \n2                           None                      None            9.99   \n3                           None                      None            9.99   \n4                         7 Days                      None            0.00   \n...                          ...                       ...             ...   \n7713                      7 Days                      None            0.00   \n7714                      7 Days                      None            0.00   \n7715                      7 Days                      None            0.00   \n7716                      7 Days                      None            0.00   \n7717                      7 Days                      None            0.00   \n\n     customer_currency  developer_proceeds proceeds_currency  \\\n0                  EUR                 0.0               EUR   \n1                  USD                 0.0               USD   \n2                  USD                 7.0               USD   \n3                  USD                 7.0               USD   \n4                  SEK                 0.0               SEK   \n...                ...                 ...               ...   \n7713               USD                 0.0               USD   \n7714               USD                 0.0               USD   \n7715               GBP                 0.0               GBP   \n7716               USD                 0.0               USD   \n7717               USD                 0.0               USD   \n\n      preserved_pricing proceeds_reason client  device country  \\\n0                 False                         iPhone      BE   \n1                 False                         iPhone      US   \n2                 False                         iPhone      US   \n3                 False                         iPhone      US   \n4                 False                         iPhone      SE   \n...                 ...             ...    ...     ...     ...   \n7713              False                         iPhone      US   \n7714              False                         iPhone      US   \n7715              False                         iPhone      GB   \n7716              False                         iPhone      US   \n7717              False                         iPhone      US   \n\n        subscriber_id  subscriber_id_reset  refund purchase_date  units  \\\n0     560340492496101                False   False           NaT      1   \n1     532285135783592                False   False           NaT      1   \n2     483262652384927                False   False           NaT      1   \n3     483240194907948                False   False           NaT      1   \n4     483267550395562                False   False           NaT      1   \n...               ...                  ...     ...           ...    ...   \n7713  245310777399669                False   False           NaT      1   \n7714  203354638047297                False   False           NaT      1   \n7715  161362785118957                False   False           NaT      1   \n7716  665277309710624                False   False           NaT      1   \n7717  658234922767949                False   False           NaT      1   \n\n      customer_currency_usd  developer_proceeds_usd  \n0                      0.00                     0.0  \n1                      0.00                     0.0  \n2                      9.99                     7.0  \n3                      9.99                     7.0  \n4                      0.00                     0.0  \n...                     ...                     ...  \n7713                   0.00                     0.0  \n7714                   0.00                     0.0  \n7715                   0.00                     0.0  \n7716                   0.00                     0.0  \n7717                   0.00                     0.0  \n\n[7718 rows x 26 columns]",
      "text/html": "<div>\n<style scoped>\n    .dataframe tbody tr th:only-of-type {\n        vertical-align: middle;\n    }\n\n    .dataframe tbody tr th {\n        vertical-align: top;\n    }\n\n    .dataframe thead th {\n        text-align: right;\n    }\n</style>\n<table border=\"1\" class=\"dataframe\">\n  <thead>\n    <tr style=\"text-align: right;\">\n      <th></th>\n      <th>event_date</th>\n      <th>app_name</th>\n      <th>app_apple_id</th>\n      <th>subscription_name</th>\n      <th>subscription_apple_id</th>\n      <th>subscription_group_id</th>\n      <th>subscription_duration</th>\n      <th>introductory_price_type</th>\n      <th>introductory_price_duration</th>\n      <th>marketing_opt_in_duration</th>\n      <th>customer_price</th>\n      <th>customer_currency</th>\n      <th>developer_proceeds</th>\n      <th>proceeds_currency</th>\n      <th>preserved_pricing</th>\n      <th>proceeds_reason</th>\n      <th>client</th>\n      <th>device</th>\n      <th>country</th>\n      <th>subscriber_id</th>\n      <th>subscriber_id_reset</th>\n      <th>refund</th>\n      <th>purchase_date</th>\n      <th>units</th>\n      <th>customer_currency_usd</th>\n      <th>developer_proceeds_usd</th>\n    </tr>\n  </thead>\n  <tbody>\n    <tr>\n      <th>0</th>\n      <td>2019-02-01</td>\n      <td>BetterMe: Calm,Sleep,Meditate</td>\n      <td>1363010081</td>\n      <td>6-month subscription, 53.99</td>\n      <td>1429863868</td>\n      <td>20449027</td>\n      <td>6 Months</td>\n      <td>Free Trial</td>\n      <td>7 Days</td>\n      <td>None</td>\n      <td>0.00</td>\n      <td>EUR</td>\n      <td>0.0</td>\n      <td>EUR</td>\n      <td>False</td>\n      <td></td>\n      <td></td>\n      <td>iPhone</td>\n      <td>BE</td>\n      <td>560340492496101</td>\n      <td>False</td>\n      <td>False</td>\n      <td>NaT</td>\n      <td>1</td>\n      <td>0.00</td>\n      <td>0.0</td>\n    </tr>\n    <tr>\n      <th>1</th>\n      <td>2019-02-01</td>\n      <td>BetterMe: Calm,Sleep,Meditate</td>\n      <td>1363010081</td>\n      <td>monthly subscription v2.1.3, 9.99</td>\n      <td>1391745601</td>\n      <td>20449027</td>\n      <td>1 Month</td>\n      <td>Free Trial</td>\n      <td>3 Days</td>\n      <td>None</td>\n      <td>0.00</td>\n      <td>USD</td>\n      <td>0.0</td>\n      <td>USD</td>\n      <td>False</td>\n      <td></td>\n      <td></td>\n      <td>iPhone</td>\n      <td>US</td>\n      <td>532285135783592</td>\n      <td>False</td>\n      <td>False</td>\n      <td>NaT</td>\n      <td>1</td>\n      <td>0.00</td>\n      <td>0.0</td>\n    </tr>\n    <tr>\n      <th>2</th>\n      <td>2019-02-01</td>\n      <td>BetterMe: Yoga for Weightloss</td>\n      <td>1398851503</td>\n      <td>monthly subscription, v.1.1, 9.99</td>\n      <td>1412730712</td>\n      <td>20461416</td>\n      <td>1 Month</td>\n      <td>None</td>\n      <td>None</td>\n      <td>None</td>\n      <td>9.99</td>\n      <td>USD</td>\n      <td>7.0</td>\n      <td>USD</td>\n      <td>False</td>\n      <td></td>\n      <td></td>\n      <td>iPhone</td>\n      <td>US</td>\n      <td>483262652384927</td>\n      <td>False</td>\n      <td>False</td>\n      <td>NaT</td>\n      <td>1</td>\n      <td>9.99</td>\n      <td>7.0</td>\n    </tr>\n    <tr>\n      <th>3</th>\n      <td>2019-02-01</td>\n      <td>BetterMe: Yoga for Weightloss</td>\n      <td>1398851503</td>\n      <td>monthly subscription, v.1.1, 9.99</td>\n      <td>1412730712</td>\n      <td>20461416</td>\n      <td>1 Month</td>\n      <td>None</td>\n      <td>None</td>\n      <td>None</td>\n      <td>9.99</td>\n      <td>USD</td>\n      <td>7.0</td>\n      <td>USD</td>\n      <td>False</td>\n      <td></td>\n      <td></td>\n      <td>iPhone</td>\n      <td>US</td>\n      <td>483240194907948</td>\n      <td>False</td>\n      <td>False</td>\n      <td>NaT</td>\n      <td>1</td>\n      <td>9.99</td>\n      <td>7.0</td>\n    </tr>\n    <tr>\n      <th>4</th>\n      <td>2019-02-01</td>\n      <td>BetterMe: Yoga for Weightloss</td>\n      <td>1398851503</td>\n      <td>6-month subscription 54</td>\n      <td>1447369566</td>\n      <td>20461416</td>\n      <td>6 Months</td>\n      <td>Free Trial</td>\n      <td>7 Days</td>\n      <td>None</td>\n      <td>0.00</td>\n      <td>SEK</td>\n      <td>0.0</td>\n      <td>SEK</td>\n      <td>False</td>\n      <td></td>\n      <td></td>\n      <td>iPhone</td>\n      <td>SE</td>\n      <td>483267550395562</td>\n      <td>False</td>\n      <td>False</td>\n      <td>NaT</td>\n      <td>1</td>\n      <td>0.00</td>\n      <td>0.0</td>\n    </tr>\n    <tr>\n      <th>...</th>\n      <td>...</td>\n      <td>...</td>\n      <td>...</td>\n      <td>...</td>\n      <td>...</td>\n      <td>...</td>\n      <td>...</td>\n      <td>...</td>\n      <td>...</td>\n      <td>...</td>\n      <td>...</td>\n      <td>...</td>\n      <td>...</td>\n      <td>...</td>\n      <td>...</td>\n      <td>...</td>\n      <td>...</td>\n      <td>...</td>\n      <td>...</td>\n      <td>...</td>\n      <td>...</td>\n      <td>...</td>\n      <td>...</td>\n      <td>...</td>\n      <td>...</td>\n      <td>...</td>\n    </tr>\n    <tr>\n      <th>7713</th>\n      <td>2019-02-10</td>\n      <td>BetterMe: Yoga for Weightloss</td>\n      <td>1398851503</td>\n      <td>Weekly 9.99usd, 7d trial</td>\n      <td>1451591605</td>\n      <td>20461416</td>\n      <td>7 Days</td>\n      <td>Free Trial</td>\n      <td>7 Days</td>\n      <td>None</td>\n      <td>0.00</td>\n      <td>USD</td>\n      <td>0.0</td>\n      <td>USD</td>\n      <td>False</td>\n      <td></td>\n      <td></td>\n      <td>iPhone</td>\n      <td>US</td>\n      <td>245310777399669</td>\n      <td>False</td>\n      <td>False</td>\n      <td>NaT</td>\n      <td>1</td>\n      <td>0.00</td>\n      <td>0.0</td>\n    </tr>\n    <tr>\n      <th>7714</th>\n      <td>2019-02-10</td>\n      <td>BetterMe: Yoga for Weightloss</td>\n      <td>1398851503</td>\n      <td>Weekly 9.99usd, 7d trial</td>\n      <td>1451591605</td>\n      <td>20461416</td>\n      <td>7 Days</td>\n      <td>Free Trial</td>\n      <td>7 Days</td>\n      <td>None</td>\n      <td>0.00</td>\n      <td>USD</td>\n      <td>0.0</td>\n      <td>USD</td>\n      <td>False</td>\n      <td></td>\n      <td></td>\n      <td>iPhone</td>\n      <td>US</td>\n      <td>203354638047297</td>\n      <td>False</td>\n      <td>False</td>\n      <td>NaT</td>\n      <td>1</td>\n      <td>0.00</td>\n      <td>0.0</td>\n    </tr>\n    <tr>\n      <th>7715</th>\n      <td>2019-02-10</td>\n      <td>BetterMe: Yoga for Weightloss</td>\n      <td>1398851503</td>\n      <td>Weekly 9.99usd, 7d trial</td>\n      <td>1451591605</td>\n      <td>20461416</td>\n      <td>7 Days</td>\n      <td>Free Trial</td>\n      <td>7 Days</td>\n      <td>None</td>\n      <td>0.00</td>\n      <td>GBP</td>\n      <td>0.0</td>\n      <td>GBP</td>\n      <td>False</td>\n      <td></td>\n      <td></td>\n      <td>iPhone</td>\n      <td>GB</td>\n      <td>161362785118957</td>\n      <td>False</td>\n      <td>False</td>\n      <td>NaT</td>\n      <td>1</td>\n      <td>0.00</td>\n      <td>0.0</td>\n    </tr>\n    <tr>\n      <th>7716</th>\n      <td>2019-02-10</td>\n      <td>BetterMe: Yoga for Weightloss</td>\n      <td>1398851503</td>\n      <td>Weekly 9.99usd, 7d trial</td>\n      <td>1451591605</td>\n      <td>20461416</td>\n      <td>7 Days</td>\n      <td>Free Trial</td>\n      <td>7 Days</td>\n      <td>None</td>\n      <td>0.00</td>\n      <td>USD</td>\n      <td>0.0</td>\n      <td>USD</td>\n      <td>False</td>\n      <td></td>\n      <td></td>\n      <td>iPhone</td>\n      <td>US</td>\n      <td>665277309710624</td>\n      <td>False</td>\n      <td>False</td>\n      <td>NaT</td>\n      <td>1</td>\n      <td>0.00</td>\n      <td>0.0</td>\n    </tr>\n    <tr>\n      <th>7717</th>\n      <td>2019-02-10</td>\n      <td>BetterMe: Yoga for Weightloss</td>\n      <td>1398851503</td>\n      <td>Weekly 9.99usd, 7d trial</td>\n      <td>1451591605</td>\n      <td>20461416</td>\n      <td>7 Days</td>\n      <td>Free Trial</td>\n      <td>7 Days</td>\n      <td>None</td>\n      <td>0.00</td>\n      <td>USD</td>\n      <td>0.0</td>\n      <td>USD</td>\n      <td>False</td>\n      <td></td>\n      <td></td>\n      <td>iPhone</td>\n      <td>US</td>\n      <td>658234922767949</td>\n      <td>False</td>\n      <td>False</td>\n      <td>NaT</td>\n      <td>1</td>\n      <td>0.00</td>\n      <td>0.0</td>\n    </tr>\n  </tbody>\n</table>\n<p>7718 rows × 26 columns</p>\n</div>"
     },
     "execution_count": 165,
     "metadata": {},
     "output_type": "execute_result"
    }
   ],
   "source": [
    "import numpy as np\n",
    "\n",
    "df.replace(np.nan, None, inplace=True)\n",
    "df"
   ],
   "metadata": {
    "collapsed": false,
    "ExecuteTime": {
     "end_time": "2023-10-19T17:46:16.362343500Z",
     "start_time": "2023-10-19T17:46:16.129921200Z"
    }
   },
   "id": "ecf320ad8c7a1ddb"
  },
  {
   "cell_type": "code",
   "execution_count": 164,
   "outputs": [],
   "source": [
    "df['marketing_opt_in_duration'].replace(['NA', 'None', 'nan', ' ', '', '?', np.nan], np.nan, inplace=True)"
   ],
   "metadata": {
    "collapsed": false,
    "ExecuteTime": {
     "end_time": "2023-10-19T17:31:16.257960500Z",
     "start_time": "2023-10-19T17:31:15.968877400Z"
    }
   },
   "id": "7be6363bf67ec3ef"
  },
  {
   "cell_type": "code",
   "execution_count": 152,
   "outputs": [
    {
     "data": {
      "text/plain": "Index(['Event Date', 'App Name', 'App Apple ID', 'Subscription Name',\n       'Subscription Apple ID', 'Subscription Group ID',\n       'Subscription Duration', 'Introductory Price Type',\n       'Introductory Price Duration', 'Marketing Opt-In Duration',\n       'Customer Price', 'Customer Currency', 'Developer Proceeds',\n       'Proceeds Currency', 'Preserved Pricing', 'Proceeds Reason', 'Client',\n       'Device', 'Country', 'Subscriber ID', 'Subscriber ID Reset', 'Refund',\n       'Purchase Date', 'Units', 'customer_currency_usd',\n       'developer_proceeds_usd'],\n      dtype='object')"
     },
     "execution_count": 152,
     "metadata": {},
     "output_type": "execute_result"
    }
   ],
   "source": [
    "df.columns"
   ],
   "metadata": {
    "collapsed": false,
    "ExecuteTime": {
     "end_time": "2023-10-19T16:35:48.362383500Z",
     "start_time": "2023-10-19T16:35:48.299267500Z"
    }
   },
   "id": "fe6aaddd2a9db6d7"
  },
  {
   "cell_type": "code",
   "execution_count": 153,
   "outputs": [],
   "source": [
    "# rename columns\n",
    "cols = ['event_date', 'app_name', 'app_apple_id', 'subscription_name',\n",
    "        'subscription_apple_id', 'subscription_group_id',\n",
    "        'subscription_duration', 'introductory_price_type',\n",
    "        'introductory_price_duration', 'marketing_opt_in_duration',\n",
    "        'customer_price', 'customer_currency', 'developer_proceeds',\n",
    "        'proceeds_currency', 'preserved_pricing', 'proceeds_reason', 'client',\n",
    "        'device', 'country', 'subscriber_id', 'subscriber_id_reset', 'refund',\n",
    "        'purchase_date', 'units', 'customer_currency_usd',\n",
    "        'developer_proceeds_usd']\n",
    "df.columns = cols\n",
    "\n",
    "# separating dataframe for each table \n",
    "apps_data = df[['app_apple_id', 'app_name']].drop_duplicates()\n",
    "subscriptions_data = df[['subscription_apple_id', 'app_apple_id', 'subscription_group_id',\n",
    "                         'subscription_name', 'subscription_duration', 'introductory_price_type',\n",
    "                         'introductory_price_duration', 'marketing_opt_in_duration']]\n",
    "transactions_data = df[['event_date', 'subscriber_id', 'subscription_apple_id',\n",
    "                        'customer_price', 'customer_currency', 'developer_proceeds_usd',\n",
    "                        'preserved_pricing', 'proceeds_reason', 'client', 'device', 'country',\n",
    "                        'subscriber_id_reset', 'refund', 'purchase_date', 'units']]"
   ],
   "metadata": {
    "collapsed": false,
    "ExecuteTime": {
     "end_time": "2023-10-19T16:35:48.362383500Z",
     "start_time": "2023-10-19T16:35:48.311283400Z"
    }
   },
   "id": "4dbd606278ecf046"
  },
  {
   "cell_type": "code",
   "execution_count": 154,
   "outputs": [
    {
     "data": {
      "text/plain": "array([1429863868, 1391745601, 1412730712, 1447369566, 1399466229,\n       1373728235, 1401172093, 1417886138, 1435774358, 1441960419,\n       1451591605, 1443849236, 1451585186, 1451585401, 1451591188],\n      dtype=int64)"
     },
     "execution_count": 154,
     "metadata": {},
     "output_type": "execute_result"
    }
   ],
   "source": [
    "subscriptions_data['subscription_apple_id'].unique()"
   ],
   "metadata": {
    "collapsed": false,
    "ExecuteTime": {
     "end_time": "2023-10-19T16:35:48.362383500Z",
     "start_time": "2023-10-19T16:35:48.322590600Z"
    }
   },
   "id": "574a3defa72e802a"
  },
  {
   "cell_type": "code",
   "execution_count": 155,
   "outputs": [],
   "source": [
    "def clear_subs(column_name):\n",
    "    for index in subscriptions_data['subscription_apple_id'].unique():\n",
    "        value = subscriptions_data[subscriptions_data['subscription_apple_id'] == index][column_name].drop_duplicates().sort_values().iloc[0]\n",
    "        \n",
    "        subscriptions_data.loc[\n",
    "            subscriptions_data['subscription_apple_id'] == index,\n",
    "            column_name\n",
    "        ] = subscriptions_data.loc[\n",
    "            subscriptions_data['subscription_apple_id'] == index,\n",
    "            column_name\n",
    "        ].fillna(value)"
   ],
   "metadata": {
    "collapsed": false,
    "ExecuteTime": {
     "end_time": "2023-10-19T16:35:48.362383500Z",
     "start_time": "2023-10-19T16:35:48.329849700Z"
    }
   },
   "id": "32d5c05ba427380f"
  },
  {
   "cell_type": "code",
   "execution_count": 156,
   "outputs": [],
   "source": [
    "for name in ['introductory_price_type', 'introductory_price_duration']:\n",
    "    clear_subs(column_name=name)"
   ],
   "metadata": {
    "collapsed": false,
    "ExecuteTime": {
     "end_time": "2023-10-19T16:35:48.459183100Z",
     "start_time": "2023-10-19T16:35:48.334154900Z"
    }
   },
   "id": "430e8cd836ba5aa0"
  },
  {
   "cell_type": "code",
   "execution_count": 157,
   "outputs": [
    {
     "data": {
      "text/plain": "      subscription_apple_id  app_apple_id  subscription_group_id  \\\n0                1429863868    1363010081               20449027   \n1                1391745601    1363010081               20449027   \n2                1412730712    1398851503               20461416   \n4                1447369566    1398851503               20461416   \n6                1399466229    1398851503               20461416   \n20               1373728235    1363010081               20449027   \n50               1401172093    1363010081               20449027   \n72               1417886138    1398851503               20461416   \n91               1435774358    1363010081               20449027   \n551              1441960419    1363010081               20449027   \n3796             1451591605    1398851503               20461416   \n4415             1443849236    1363010081               20449027   \n4554             1451585186    1363010081               20449027   \n4582             1451585401    1363010081               20449027   \n6059             1451591188    1398851503               20461416   \n\n                       subscription_name subscription_duration  \\\n0            6-month subscription, 53.99              6 Months   \n1      monthly subscription v2.1.3, 9.99               1 Month   \n2      monthly subscription, v.1.1, 9.99               1 Month   \n4                6-month subscription 54              6 Months   \n6       6-month subscription v1.0, 41.99              6 Months   \n20      6-month subscription v2.0, 41.99              6 Months   \n50               BetterMe: Weekly access                7 Days   \n72    weekly subscription, v.1.1.1, 4.99                7 Days   \n91             weekly subscription, 2.99                7 Days   \n551                        Monthly_12_99               1 Month   \n3796            Weekly 9.99usd, 7d trial                7 Days   \n4415                Meditation_Annual_40                1 Year   \n4554          Weekly, 9.99usd, no trial.                7 Days   \n4582           Weekly, 9.99usd, 7d trial                7 Days   \n6059            Weekly 9.99usd, no trial                7 Days   \n\n     introductory_price_type introductory_price_duration  \\\n0                 Free Trial                      7 Days   \n1                 Free Trial                      3 Days   \n2                 Free Trial                      3 Days   \n4                 Free Trial                      7 Days   \n6                 Free Trial                      7 Days   \n20                Free Trial                      7 Days   \n50                       NaN                         NaN   \n72                Free Trial                      7 Days   \n91                       NaN                         NaN   \n551                      NaN                         NaN   \n3796              Free Trial                      7 Days   \n4415                     NaN                         NaN   \n4554                     NaN                         NaN   \n4582              Free Trial                      7 Days   \n6059                     NaN                         NaN   \n\n      marketing_opt_in_duration  \n0                           NaN  \n1                           NaN  \n2                           NaN  \n4                           NaN  \n6                           NaN  \n20                          NaN  \n50                          NaN  \n72                          NaN  \n91                          NaN  \n551                         NaN  \n3796                        NaN  \n4415                        NaN  \n4554                        NaN  \n4582                        NaN  \n6059                        NaN  ",
      "text/html": "<div>\n<style scoped>\n    .dataframe tbody tr th:only-of-type {\n        vertical-align: middle;\n    }\n\n    .dataframe tbody tr th {\n        vertical-align: top;\n    }\n\n    .dataframe thead th {\n        text-align: right;\n    }\n</style>\n<table border=\"1\" class=\"dataframe\">\n  <thead>\n    <tr style=\"text-align: right;\">\n      <th></th>\n      <th>subscription_apple_id</th>\n      <th>app_apple_id</th>\n      <th>subscription_group_id</th>\n      <th>subscription_name</th>\n      <th>subscription_duration</th>\n      <th>introductory_price_type</th>\n      <th>introductory_price_duration</th>\n      <th>marketing_opt_in_duration</th>\n    </tr>\n  </thead>\n  <tbody>\n    <tr>\n      <th>0</th>\n      <td>1429863868</td>\n      <td>1363010081</td>\n      <td>20449027</td>\n      <td>6-month subscription, 53.99</td>\n      <td>6 Months</td>\n      <td>Free Trial</td>\n      <td>7 Days</td>\n      <td>NaN</td>\n    </tr>\n    <tr>\n      <th>1</th>\n      <td>1391745601</td>\n      <td>1363010081</td>\n      <td>20449027</td>\n      <td>monthly subscription v2.1.3, 9.99</td>\n      <td>1 Month</td>\n      <td>Free Trial</td>\n      <td>3 Days</td>\n      <td>NaN</td>\n    </tr>\n    <tr>\n      <th>2</th>\n      <td>1412730712</td>\n      <td>1398851503</td>\n      <td>20461416</td>\n      <td>monthly subscription, v.1.1, 9.99</td>\n      <td>1 Month</td>\n      <td>Free Trial</td>\n      <td>3 Days</td>\n      <td>NaN</td>\n    </tr>\n    <tr>\n      <th>4</th>\n      <td>1447369566</td>\n      <td>1398851503</td>\n      <td>20461416</td>\n      <td>6-month subscription 54</td>\n      <td>6 Months</td>\n      <td>Free Trial</td>\n      <td>7 Days</td>\n      <td>NaN</td>\n    </tr>\n    <tr>\n      <th>6</th>\n      <td>1399466229</td>\n      <td>1398851503</td>\n      <td>20461416</td>\n      <td>6-month subscription v1.0, 41.99</td>\n      <td>6 Months</td>\n      <td>Free Trial</td>\n      <td>7 Days</td>\n      <td>NaN</td>\n    </tr>\n    <tr>\n      <th>20</th>\n      <td>1373728235</td>\n      <td>1363010081</td>\n      <td>20449027</td>\n      <td>6-month subscription v2.0, 41.99</td>\n      <td>6 Months</td>\n      <td>Free Trial</td>\n      <td>7 Days</td>\n      <td>NaN</td>\n    </tr>\n    <tr>\n      <th>50</th>\n      <td>1401172093</td>\n      <td>1363010081</td>\n      <td>20449027</td>\n      <td>BetterMe: Weekly access</td>\n      <td>7 Days</td>\n      <td>NaN</td>\n      <td>NaN</td>\n      <td>NaN</td>\n    </tr>\n    <tr>\n      <th>72</th>\n      <td>1417886138</td>\n      <td>1398851503</td>\n      <td>20461416</td>\n      <td>weekly subscription, v.1.1.1, 4.99</td>\n      <td>7 Days</td>\n      <td>Free Trial</td>\n      <td>7 Days</td>\n      <td>NaN</td>\n    </tr>\n    <tr>\n      <th>91</th>\n      <td>1435774358</td>\n      <td>1363010081</td>\n      <td>20449027</td>\n      <td>weekly subscription, 2.99</td>\n      <td>7 Days</td>\n      <td>NaN</td>\n      <td>NaN</td>\n      <td>NaN</td>\n    </tr>\n    <tr>\n      <th>551</th>\n      <td>1441960419</td>\n      <td>1363010081</td>\n      <td>20449027</td>\n      <td>Monthly_12_99</td>\n      <td>1 Month</td>\n      <td>NaN</td>\n      <td>NaN</td>\n      <td>NaN</td>\n    </tr>\n    <tr>\n      <th>3796</th>\n      <td>1451591605</td>\n      <td>1398851503</td>\n      <td>20461416</td>\n      <td>Weekly 9.99usd, 7d trial</td>\n      <td>7 Days</td>\n      <td>Free Trial</td>\n      <td>7 Days</td>\n      <td>NaN</td>\n    </tr>\n    <tr>\n      <th>4415</th>\n      <td>1443849236</td>\n      <td>1363010081</td>\n      <td>20449027</td>\n      <td>Meditation_Annual_40</td>\n      <td>1 Year</td>\n      <td>NaN</td>\n      <td>NaN</td>\n      <td>NaN</td>\n    </tr>\n    <tr>\n      <th>4554</th>\n      <td>1451585186</td>\n      <td>1363010081</td>\n      <td>20449027</td>\n      <td>Weekly, 9.99usd, no trial.</td>\n      <td>7 Days</td>\n      <td>NaN</td>\n      <td>NaN</td>\n      <td>NaN</td>\n    </tr>\n    <tr>\n      <th>4582</th>\n      <td>1451585401</td>\n      <td>1363010081</td>\n      <td>20449027</td>\n      <td>Weekly, 9.99usd, 7d trial</td>\n      <td>7 Days</td>\n      <td>Free Trial</td>\n      <td>7 Days</td>\n      <td>NaN</td>\n    </tr>\n    <tr>\n      <th>6059</th>\n      <td>1451591188</td>\n      <td>1398851503</td>\n      <td>20461416</td>\n      <td>Weekly 9.99usd, no trial</td>\n      <td>7 Days</td>\n      <td>NaN</td>\n      <td>NaN</td>\n      <td>NaN</td>\n    </tr>\n  </tbody>\n</table>\n</div>"
     },
     "execution_count": 157,
     "metadata": {},
     "output_type": "execute_result"
    }
   ],
   "source": [
    "subscriptions_data.drop_duplicates()"
   ],
   "metadata": {
    "collapsed": false,
    "ExecuteTime": {
     "end_time": "2023-10-19T16:35:48.539003800Z",
     "start_time": "2023-10-19T16:35:48.419536400Z"
    }
   },
   "id": "6e78758994df69f1"
  },
  {
   "cell_type": "code",
   "execution_count": 157,
   "outputs": [],
   "source": [],
   "metadata": {
    "collapsed": false,
    "ExecuteTime": {
     "end_time": "2023-10-19T16:35:48.539003800Z",
     "start_time": "2023-10-19T16:35:48.443527300Z"
    }
   },
   "id": "b2d81d31aa16717"
  }
 ],
 "metadata": {
  "kernelspec": {
   "display_name": "Python 3",
   "language": "python",
   "name": "python3"
  },
  "language_info": {
   "codemirror_mode": {
    "name": "ipython",
    "version": 2
   },
   "file_extension": ".py",
   "mimetype": "text/x-python",
   "name": "python",
   "nbconvert_exporter": "python",
   "pygments_lexer": "ipython2",
   "version": "2.7.6"
  }
 },
 "nbformat": 4,
 "nbformat_minor": 5
}

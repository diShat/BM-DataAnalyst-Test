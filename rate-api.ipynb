{
 "cells": [
  {
   "cell_type": "code",
   "execution_count": 2,
   "id": "initial_id",
   "metadata": {
    "collapsed": true,
    "ExecuteTime": {
     "end_time": "2023-10-19T01:40:28.002086300Z",
     "start_time": "2023-10-19T01:40:27.219990500Z"
    }
   },
   "outputs": [
    {
     "data": {
      "text/plain": "{'disclaimer': 'Usage subject to terms: https://openexchangerates.org/terms',\n 'license': 'https://openexchangerates.org/license',\n 'timestamp': 1697677200,\n 'base': 'USD',\n 'rates': {'AED': 3.67304,\n  'AFN': 75.202857,\n  'ALL': 100.140668,\n  'AMD': 401.680849,\n  'ANG': 1.802404,\n  'AOA': 826.452933,\n  'ARS': 350.0568,\n  'AUD': 1.582904,\n  'AWG': 1.8,\n  'AZN': 1.7,\n  'BAM': 1.852882,\n  'BBD': 2,\n  'BDT': 110.255837,\n  'BGN': 1.8559,\n  'BHD': 0.376975,\n  'BIF': 2837.881393,\n  'BMD': 1,\n  'BND': 1.370003,\n  'BOB': 6.91024,\n  'BRL': 5.0575,\n  'BSD': 1,\n  'BTC': 3.5214857e-05,\n  'BTN': 83.274351,\n  'BWP': 13.681084,\n  'BYN': 3.294791,\n  'BZD': 2.015831,\n  'CAD': 1.37173,\n  'CDF': 2481.092076,\n  'CHF': 0.898847,\n  'CLF': 0.034079,\n  'CLP': 940.33,\n  'CNH': 7.325997,\n  'CNY': 7.3144,\n  'COP': 4206.81035,\n  'CRC': 531.768093,\n  'CUC': 1,\n  'CUP': 25.75,\n  'CVE': 104.46855,\n  'CZK': 23.417399,\n  'DJF': 177.827972,\n  'DKK': 7.08002,\n  'DOP': 56.739003,\n  'DZD': 137.832295,\n  'EGP': 30.919,\n  'ERN': 15,\n  'ETB': 55.729507,\n  'EUR': 0.948866,\n  'FJD': 2.28685,\n  'FKP': 0.823603,\n  'GBP': 0.823603,\n  'GEL': 2.69,\n  'GGP': 0.823603,\n  'GHS': 11.770613,\n  'GIP': 0.823603,\n  'GMD': 65.85,\n  'GNF': 8590.813359,\n  'GTQ': 7.846258,\n  'GYD': 209.512655,\n  'HKD': 7.827503,\n  'HNL': 24.689355,\n  'HRK': 7.14923,\n  'HTG': 134.006619,\n  'HUF': 364.516244,\n  'IDR': 15794.65,\n  'ILS': 4.02664,\n  'IMP': 0.823603,\n  'INR': 83.27255,\n  'IQD': 1310.026223,\n  'IRR': 42262.5,\n  'ISK': 138.82,\n  'JEP': 0.823603,\n  'JMD': 155.786851,\n  'JOD': 0.7093,\n  'JPY': 149.757625,\n  'KES': 149.9,\n  'KGS': 89.32,\n  'KHR': 4126.799614,\n  'KMF': 465.450054,\n  'KPW': 900,\n  'KRW': 1356.916272,\n  'KWD': 0.309306,\n  'KYD': 0.833408,\n  'KZT': 479.155246,\n  'LAK': 20656.673171,\n  'LBP': 15030.933544,\n  'LKR': 324.779957,\n  'LRD': 186.900006,\n  'LSL': 18.840931,\n  'LYD': 4.895118,\n  'MAD': 10.263327,\n  'MDL': 18.08981,\n  'MGA': 4535.355333,\n  'MKD': 58.295363,\n  'MMK': 2100.145006,\n  'MNT': 3450,\n  'MOP': 8.062281,\n  'MRU': 39.212409,\n  'MUR': 44.303137,\n  'MVR': 15.375,\n  'MWK': 1154.978504,\n  'MXN': 18.257,\n  'MYR': 4.7445,\n  'MZN': 63.899991,\n  'NAD': 18.81,\n  'NGN': 774.94,\n  'NIO': 36.596188,\n  'NOK': 11.067716,\n  'NPR': 133.237339,\n  'NZD': 1.710153,\n  'OMR': 0.384948,\n  'PAB': 1,\n  'PEN': 3.845637,\n  'PGK': 3.737191,\n  'PHP': 56.859492,\n  'PKR': 276.375,\n  'PLN': 4.22611,\n  'PYG': 7437.871855,\n  'QAR': 3.6405,\n  'RON': 4.7176,\n  'RSD': 111.187,\n  'RUB': 97.474986,\n  'RWF': 1221.253937,\n  'SAR': 3.751009,\n  'SBD': 8.433052,\n  'SCR': 13.032997,\n  'SDG': 601,\n  'SEK': 11.023584,\n  'SGD': 1.373383,\n  'SHP': 0.823603,\n  'SLL': 20969.5,\n  'SOS': 571.143373,\n  'SRD': 38.1445,\n  'SSP': 130.26,\n  'STD': 22281.8,\n  'STN': 23.290505,\n  'SVC': 8.749982,\n  'SYP': 2512.53,\n  'SZL': 18.854109,\n  'THB': 36.4095,\n  'TJS': 10.975562,\n  'TMT': 3.5,\n  'TND': 3.17,\n  'TOP': 2.397425,\n  'TRY': 28.048499,\n  'TTD': 6.786132,\n  'TWD': 32.415999,\n  'TZS': 2507.5,\n  'UAH': 36.616913,\n  'UGX': 3762.055944,\n  'USD': 1,\n  'UYU': 39.918503,\n  'UZS': 12209.358263,\n  'VES': 34.769112,\n  'VND': 24500,\n  'VUV': 118.722,\n  'WST': 2.7185,\n  'XAF': 622.415198,\n  'XAG': 0.04376196,\n  'XAU': 0.00051278,\n  'XCD': 2.70255,\n  'XDR': 0.763208,\n  'XOF': 622.415198,\n  'XPD': 0.00088469,\n  'XPF': 113.229815,\n  'XPT': 0.00113058,\n  'YER': 250.300053,\n  'ZAR': 18.9952,\n  'ZMW': 21.620316,\n  'ZWL': 322}}"
     },
     "execution_count": 2,
     "metadata": {},
     "output_type": "execute_result"
    }
   ],
   "source": [
    "import requests\n",
    "    \n",
    "url = \"https://openexchangerates.org/api/latest.json?app_id=5c73422a7fe741758b572cafc6ca03f1\"\n",
    "response = requests.get(url)\n",
    "data = response.json()\n",
    "\n",
    "data"
   ]
  },
  {
   "cell_type": "code",
   "execution_count": 3,
   "outputs": [
    {
     "data": {
      "text/plain": "{'AED': 3.67304,\n 'AFN': 75.202857,\n 'ALL': 100.140668,\n 'AMD': 401.680849,\n 'ANG': 1.802404,\n 'AOA': 826.452933,\n 'ARS': 350.0568,\n 'AUD': 1.582904,\n 'AWG': 1.8,\n 'AZN': 1.7,\n 'BAM': 1.852882,\n 'BBD': 2,\n 'BDT': 110.255837,\n 'BGN': 1.8559,\n 'BHD': 0.376975,\n 'BIF': 2837.881393,\n 'BMD': 1,\n 'BND': 1.370003,\n 'BOB': 6.91024,\n 'BRL': 5.0575,\n 'BSD': 1,\n 'BTC': 3.5214857e-05,\n 'BTN': 83.274351,\n 'BWP': 13.681084,\n 'BYN': 3.294791,\n 'BZD': 2.015831,\n 'CAD': 1.37173,\n 'CDF': 2481.092076,\n 'CHF': 0.898847,\n 'CLF': 0.034079,\n 'CLP': 940.33,\n 'CNH': 7.325997,\n 'CNY': 7.3144,\n 'COP': 4206.81035,\n 'CRC': 531.768093,\n 'CUC': 1,\n 'CUP': 25.75,\n 'CVE': 104.46855,\n 'CZK': 23.417399,\n 'DJF': 177.827972,\n 'DKK': 7.08002,\n 'DOP': 56.739003,\n 'DZD': 137.832295,\n 'EGP': 30.919,\n 'ERN': 15,\n 'ETB': 55.729507,\n 'EUR': 0.948866,\n 'FJD': 2.28685,\n 'FKP': 0.823603,\n 'GBP': 0.823603,\n 'GEL': 2.69,\n 'GGP': 0.823603,\n 'GHS': 11.770613,\n 'GIP': 0.823603,\n 'GMD': 65.85,\n 'GNF': 8590.813359,\n 'GTQ': 7.846258,\n 'GYD': 209.512655,\n 'HKD': 7.827503,\n 'HNL': 24.689355,\n 'HRK': 7.14923,\n 'HTG': 134.006619,\n 'HUF': 364.516244,\n 'IDR': 15794.65,\n 'ILS': 4.02664,\n 'IMP': 0.823603,\n 'INR': 83.27255,\n 'IQD': 1310.026223,\n 'IRR': 42262.5,\n 'ISK': 138.82,\n 'JEP': 0.823603,\n 'JMD': 155.786851,\n 'JOD': 0.7093,\n 'JPY': 149.757625,\n 'KES': 149.9,\n 'KGS': 89.32,\n 'KHR': 4126.799614,\n 'KMF': 465.450054,\n 'KPW': 900,\n 'KRW': 1356.916272,\n 'KWD': 0.309306,\n 'KYD': 0.833408,\n 'KZT': 479.155246,\n 'LAK': 20656.673171,\n 'LBP': 15030.933544,\n 'LKR': 324.779957,\n 'LRD': 186.900006,\n 'LSL': 18.840931,\n 'LYD': 4.895118,\n 'MAD': 10.263327,\n 'MDL': 18.08981,\n 'MGA': 4535.355333,\n 'MKD': 58.295363,\n 'MMK': 2100.145006,\n 'MNT': 3450,\n 'MOP': 8.062281,\n 'MRU': 39.212409,\n 'MUR': 44.303137,\n 'MVR': 15.375,\n 'MWK': 1154.978504,\n 'MXN': 18.257,\n 'MYR': 4.7445,\n 'MZN': 63.899991,\n 'NAD': 18.81,\n 'NGN': 774.94,\n 'NIO': 36.596188,\n 'NOK': 11.067716,\n 'NPR': 133.237339,\n 'NZD': 1.710153,\n 'OMR': 0.384948,\n 'PAB': 1,\n 'PEN': 3.845637,\n 'PGK': 3.737191,\n 'PHP': 56.859492,\n 'PKR': 276.375,\n 'PLN': 4.22611,\n 'PYG': 7437.871855,\n 'QAR': 3.6405,\n 'RON': 4.7176,\n 'RSD': 111.187,\n 'RUB': 97.474986,\n 'RWF': 1221.253937,\n 'SAR': 3.751009,\n 'SBD': 8.433052,\n 'SCR': 13.032997,\n 'SDG': 601,\n 'SEK': 11.023584,\n 'SGD': 1.373383,\n 'SHP': 0.823603,\n 'SLL': 20969.5,\n 'SOS': 571.143373,\n 'SRD': 38.1445,\n 'SSP': 130.26,\n 'STD': 22281.8,\n 'STN': 23.290505,\n 'SVC': 8.749982,\n 'SYP': 2512.53,\n 'SZL': 18.854109,\n 'THB': 36.4095,\n 'TJS': 10.975562,\n 'TMT': 3.5,\n 'TND': 3.17,\n 'TOP': 2.397425,\n 'TRY': 28.048499,\n 'TTD': 6.786132,\n 'TWD': 32.415999,\n 'TZS': 2507.5,\n 'UAH': 36.616913,\n 'UGX': 3762.055944,\n 'USD': 1,\n 'UYU': 39.918503,\n 'UZS': 12209.358263,\n 'VES': 34.769112,\n 'VND': 24500,\n 'VUV': 118.722,\n 'WST': 2.7185,\n 'XAF': 622.415198,\n 'XAG': 0.04376196,\n 'XAU': 0.00051278,\n 'XCD': 2.70255,\n 'XDR': 0.763208,\n 'XOF': 622.415198,\n 'XPD': 0.00088469,\n 'XPF': 113.229815,\n 'XPT': 0.00113058,\n 'YER': 250.300053,\n 'ZAR': 18.9952,\n 'ZMW': 21.620316,\n 'ZWL': 322}"
     },
     "execution_count": 3,
     "metadata": {},
     "output_type": "execute_result"
    }
   ],
   "source": [
    "rates = data['rates']\n",
    "rates"
   ],
   "metadata": {
    "collapsed": false,
    "ExecuteTime": {
     "end_time": "2023-10-19T01:40:52.771542900Z",
     "start_time": "2023-10-19T01:40:52.750468Z"
    }
   },
   "id": "f8cbbffbc371154e"
  },
  {
   "cell_type": "code",
   "execution_count": 6,
   "outputs": [],
   "source": [
    "import json\n",
    "\n",
    "with open('rates.json', 'w') as f:\n",
    "    json.dump(rates, f)"
   ],
   "metadata": {
    "collapsed": false,
    "ExecuteTime": {
     "end_time": "2023-10-19T01:45:13.996481800Z",
     "start_time": "2023-10-19T01:45:13.974542600Z"
    }
   },
   "id": "a03eeb859279dedf"
  },
  {
   "cell_type": "code",
   "execution_count": null,
   "outputs": [],
   "source": [],
   "metadata": {
    "collapsed": false
   },
   "id": "8acd477e1b44180e"
  }
 ],
 "metadata": {
  "kernelspec": {
   "display_name": "Python 3",
   "language": "python",
   "name": "python3"
  },
  "language_info": {
   "codemirror_mode": {
    "name": "ipython",
    "version": 2
   },
   "file_extension": ".py",
   "mimetype": "text/x-python",
   "name": "python",
   "nbconvert_exporter": "python",
   "pygments_lexer": "ipython2",
   "version": "2.7.6"
  }
 },
 "nbformat": 4,
 "nbformat_minor": 5
}

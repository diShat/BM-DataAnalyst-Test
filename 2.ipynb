{
 "cells": [
  {
   "cell_type": "code",
   "execution_count": 2,
   "id": "initial_id",
   "metadata": {
    "collapsed": true,
    "ExecuteTime": {
     "end_time": "2023-10-18T21:18:21.123380Z",
     "start_time": "2023-10-18T21:18:20.341215600Z"
    }
   },
   "outputs": [
    {
     "data": {
      "text/plain": "   Install Time Ad channel Region Country Code   WIFI  \\\n0  1/15/18 0:00  channel_2    NaN           MX   True   \n1  1/15/18 0:00  channel_1     EU           UK   True   \n2  1/15/18 0:00  channel_2     AS           MY  False   \n3  1/15/18 0:00  channel_2     AS           ID   True   \n4  1/15/18 0:00  channel_2     SA           BR   True   \n\n                             User ID Platform     Device Type OS Version  \\\n0  1515974336711-1778358786583428667  android      Sony-E5506          6   \n1  1515974128816-1553400377494247950  android   HONOR-DLI-L22          7   \n2  1515974398131-5052262026598080446  android  HUAWEI-RNE-L22          7   \n3  1515974294670-5418514752749002844  android    OPPO-CPH1717      7.1.1   \n4  1515974394890-3855121677125404186  android      Sony-D6643      6.0.1   \n\n  App Version  \n0       2.5.1  \n1       2.5.1  \n2       2.5.1  \n3       2.5.1  \n4       2.5.1  ",
      "text/html": "<div>\n<style scoped>\n    .dataframe tbody tr th:only-of-type {\n        vertical-align: middle;\n    }\n\n    .dataframe tbody tr th {\n        vertical-align: top;\n    }\n\n    .dataframe thead th {\n        text-align: right;\n    }\n</style>\n<table border=\"1\" class=\"dataframe\">\n  <thead>\n    <tr style=\"text-align: right;\">\n      <th></th>\n      <th>Install Time</th>\n      <th>Ad channel</th>\n      <th>Region</th>\n      <th>Country Code</th>\n      <th>WIFI</th>\n      <th>User ID</th>\n      <th>Platform</th>\n      <th>Device Type</th>\n      <th>OS Version</th>\n      <th>App Version</th>\n    </tr>\n  </thead>\n  <tbody>\n    <tr>\n      <th>0</th>\n      <td>1/15/18 0:00</td>\n      <td>channel_2</td>\n      <td>NaN</td>\n      <td>MX</td>\n      <td>True</td>\n      <td>1515974336711-1778358786583428667</td>\n      <td>android</td>\n      <td>Sony-E5506</td>\n      <td>6</td>\n      <td>2.5.1</td>\n    </tr>\n    <tr>\n      <th>1</th>\n      <td>1/15/18 0:00</td>\n      <td>channel_1</td>\n      <td>EU</td>\n      <td>UK</td>\n      <td>True</td>\n      <td>1515974128816-1553400377494247950</td>\n      <td>android</td>\n      <td>HONOR-DLI-L22</td>\n      <td>7</td>\n      <td>2.5.1</td>\n    </tr>\n    <tr>\n      <th>2</th>\n      <td>1/15/18 0:00</td>\n      <td>channel_2</td>\n      <td>AS</td>\n      <td>MY</td>\n      <td>False</td>\n      <td>1515974398131-5052262026598080446</td>\n      <td>android</td>\n      <td>HUAWEI-RNE-L22</td>\n      <td>7</td>\n      <td>2.5.1</td>\n    </tr>\n    <tr>\n      <th>3</th>\n      <td>1/15/18 0:00</td>\n      <td>channel_2</td>\n      <td>AS</td>\n      <td>ID</td>\n      <td>True</td>\n      <td>1515974294670-5418514752749002844</td>\n      <td>android</td>\n      <td>OPPO-CPH1717</td>\n      <td>7.1.1</td>\n      <td>2.5.1</td>\n    </tr>\n    <tr>\n      <th>4</th>\n      <td>1/15/18 0:00</td>\n      <td>channel_2</td>\n      <td>SA</td>\n      <td>BR</td>\n      <td>True</td>\n      <td>1515974394890-3855121677125404186</td>\n      <td>android</td>\n      <td>Sony-D6643</td>\n      <td>6.0.1</td>\n      <td>2.5.1</td>\n    </tr>\n  </tbody>\n</table>\n</div>"
     },
     "execution_count": 2,
     "metadata": {},
     "output_type": "execute_result"
    }
   ],
   "source": [
    "import pandas as pd\n",
    "import numpy as np\n",
    "\n",
    "\n",
    "df = pd.read_csv('BM sample data.csv')\n",
    "df.head()"
   ]
  },
  {
   "cell_type": "code",
   "execution_count": 3,
   "outputs": [
    {
     "data": {
      "text/plain": "array(['MX', 'UK', 'MY', 'ID', 'BR', 'IN', 'US', 'AR', 'CA', 'PH', 'PL',\n       'KE', 'CO', 'ES', 'NL', 'TR', 'NZ', 'IE', 'CL', 'EC', 'AU', 'TH',\n       'IT', 'NG', 'DE', 'AZ', 'EG', 'BE', 'BS', 'RS', 'SG', 'GY', 'FI',\n       'FR', 'BY', 'HR', 'SA', 'JP', 'MT', 'SE', 'ZA', 'GT', 'GL', 'AE',\n       'CH', 'GR', 'PE', 'JM', 'TT', 'DK', 'LT', 'CZ', 'RU', 'HK', 'NO',\n       'LB', 'MA', 'RO', 'PT', 'VE', 'PR', 'VN', 'MP', 'UY', 'AL', 'BG',\n       'ML', 'PA', 'MK', 'BO', 'LK', 'GH', 'KW', 'KN', 'BB', 'MD', 'UA',\n       'MR', 'FO', 'DO', 'AT', 'NP', 'MQ', 'CR', 'TW', 'SK', 'MM', 'CI',\n       'AG', 'KZ', 'GI', 'GU', 'CW', 'SV', 'TN', 'ME', 'IR', 'LY', 'MN',\n       'PS', 'PY', 'IM', 'SI', 'FJ', 'UG', 'IS', 'CY', 'JO', 'BZ', 'CN',\n       'UZ', 'PK', 'GF', 'KR', 'IQ', 'GP', 'LV', 'LC', 'KH', 'KY', 'NI',\n       'MO', 'MV', 'HU', 'HN', 'BH', 'SR', 'IL', 'QA', 'BD', 'MZ', 'AW',\n       'BN', 'MU', 'OM', 'VC', 'RE', 'HT', 'AM', 'CM', 'KG', 'SZ', 'TZ',\n       'BA', 'EE', 'PF', 'SO', 'LU', 'GE', 'AF', 'LI', 'ZM', 'GD', 'ZW',\n       'SC', 'TM', 'RW', 'GA', 'TL', 'AX', 'GN', 'SL', 'LA', 'SS', 'NC',\n       'TJ', nan, 'MW', 'BQ', 'LR', 'AO', 'MG', 'BM', 'VI', 'PG', 'SX',\n       'JE', 'MF', 'LS', 'YE', 'BT', 'DZ', 'EU', 'TC', 'BW', 'AD', 'SN',\n       'ET', 'BJ', 'TG', 'GM', 'BL', 'CD', 'SY', 'AS', 'CG', 'TD', 'SM',\n       'DJ', 'AI', 'VG', 'GG', 'FK', 'BF', 'GQ', 'SD', 'MC', 'NE'],\n      dtype=object)"
     },
     "execution_count": 3,
     "metadata": {},
     "output_type": "execute_result"
    }
   ],
   "source": [
    "df['Country Code'].unique()"
   ],
   "metadata": {
    "collapsed": false,
    "ExecuteTime": {
     "end_time": "2023-10-18T21:18:21.137848600Z",
     "start_time": "2023-10-18T21:18:21.121378100Z"
    }
   },
   "id": "472c696e934968bf"
  },
  {
   "cell_type": "code",
   "execution_count": 4,
   "outputs": [
    {
     "data": {
      "text/plain": "True"
     },
     "execution_count": 4,
     "metadata": {},
     "output_type": "execute_result"
    }
   ],
   "source": [
    "'EU' in df['Country Code'].unique()"
   ],
   "metadata": {
    "collapsed": false,
    "ExecuteTime": {
     "end_time": "2023-10-18T21:18:21.163167500Z",
     "start_time": "2023-10-18T21:18:21.136848700Z"
    }
   },
   "id": "eb3b48b6f9f2a066"
  },
  {
   "cell_type": "code",
   "execution_count": 5,
   "outputs": [
    {
     "data": {
      "text/plain": "float"
     },
     "execution_count": 5,
     "metadata": {},
     "output_type": "execute_result"
    }
   ],
   "source": [
    "df['country_code_prepped'] = df['Country Code'].copy()\n",
    "type(df['country_code_prepped'].unique()[166])"
   ],
   "metadata": {
    "collapsed": false,
    "ExecuteTime": {
     "end_time": "2023-10-18T21:18:21.210170400Z",
     "start_time": "2023-10-18T21:18:21.149849800Z"
    }
   },
   "id": "9a3edc41e24a4e01"
  },
  {
   "cell_type": "code",
   "execution_count": 6,
   "outputs": [
    {
     "name": "stdout",
     "output_type": "stream",
     "text": [
      "AD AE AF AG AI AL AM AO AR AS AT AU AW AX AZ BA BB BD BE BF BG BH BJ BL BM BN BO BQ BR BS BT BW BY BZ CA CD CG CH CI CL CM CN CO CR CW CY CZ DE DJ DK DO DZ EC EE EG ES ET FI FJ FK FO FR GA GB GD GE GF GG GH GI GL GM GN GP GQ GR GT GU GY HK HN HR HT HU ID IE IL IM IN IQ IR IS IT JE JM JO JP KE KG KH KN KR KW KY KZ LA LB LC LI LK LR LS LT LU LV LY MA MC MD ME MF MG MK ML MM MN MO MP MQ MR MT MU MV MW MX MY MZ NC NE NG NI NL NO NP NZ OM PA PE PF PG PH PK PL PR PS PT PY QA RE RO RS RU RW SA SC SD SE SG SI SK SL SM SN SO SR SS SV SX SY SZ TC TD TG TH TJ TL TM TN TR TT TW TZ UA UG US UY UZ VC VE VG VI VN YE ZA ZM ZW "
     ]
    }
   ],
   "source": [
    "df.loc[df['country_code_prepped'] == 'UK', 'country_code_prepped'] = 'GB'   # changing to the official ISO code for UK\n",
    "df.loc[df['country_code_prepped'] == 'EU', 'country_code_prepped'] = 'DE'   # assume all the EU entries are DE as average(time)\n",
    "df['country_code_prepped'].replace(['NA', 'None', 'nan', ' ', '', '?', np.nan], value='GB', inplace=True)   # replacing all nan as Greenwich(+00:00) time aka GB\n",
    "country_codes_list = df['country_code_prepped'].sort_values().unique().tolist()\n",
    "for country_code in country_codes_list:\n",
    "    print(country_code, end=' ')\n"
   ],
   "metadata": {
    "collapsed": false,
    "ExecuteTime": {
     "end_time": "2023-10-18T21:18:21.341477600Z",
     "start_time": "2023-10-18T21:18:21.170161200Z"
    }
   },
   "id": "39f232382b2d9e48"
  },
  {
   "cell_type": "code",
   "execution_count": 8,
   "outputs": [],
   "source": [
    "import pytz\n",
    "import pycountry\n",
    "\n",
    "def get_primary_timezone(country_codes):\n",
    "    primary_timezones = {}\n",
    "    country_names = {}\n",
    "    \n",
    "    for country_code in country_codes:\n",
    "        # Check if it's a valid country code\n",
    "        try:\n",
    "            country = pycountry.countries.get(alpha_2=country_code)\n",
    "            if not country:\n",
    "                print(f\"Invalid country code: {country_code}\")\n",
    "                continue\n",
    "        except KeyError:\n",
    "            print(f\"Invalid country code: {country_code}\")\n",
    "            continue\n",
    "\n",
    "        # Get the list of timezones\n",
    "        country_timezones = pytz.country_timezones.get(country_code)\n",
    "\n",
    "        if country_timezones:\n",
    "            # Select the first timezone as the primary one\n",
    "            primary_timezones[country_code] = country_timezones[0]\n",
    "            # get the code:country mapping as well\n",
    "            country_names[country_code] = country.name\n",
    "        else:\n",
    "            print(f\"No timezone data available for country code: {country_code}\")\n",
    "\n",
    "    return primary_timezones, country_names\n",
    "\n",
    "#country_codes_list = ['US', 'JP', 'IN', 'AU']  # Example country codes\n",
    "primary_timezones, country_names = get_primary_timezone(country_codes_list)\n",
    "\n",
    "#for code, timezone in primary_timezones.items():\n",
    "#    print(f\"Primary timezone for {code}: {timezone}\")"
   ],
   "metadata": {
    "collapsed": false,
    "ExecuteTime": {
     "end_time": "2023-10-18T21:18:44.301629200Z",
     "start_time": "2023-10-18T21:18:44.222957Z"
    }
   },
   "id": "94a578ca0162879a"
  },
  {
   "cell_type": "code",
   "execution_count": 9,
   "outputs": [
    {
     "data": {
      "text/plain": "{'AD': 'Europe/Andorra',\n 'AE': 'Asia/Dubai',\n 'AF': 'Asia/Kabul',\n 'AG': 'America/Antigua',\n 'AI': 'America/Anguilla',\n 'AL': 'Europe/Tirane',\n 'AM': 'Asia/Yerevan',\n 'AO': 'Africa/Luanda',\n 'AR': 'America/Argentina/Buenos_Aires',\n 'AS': 'Pacific/Pago_Pago',\n 'AT': 'Europe/Vienna',\n 'AU': 'Australia/Lord_Howe',\n 'AW': 'America/Aruba',\n 'AX': 'Europe/Mariehamn',\n 'AZ': 'Asia/Baku',\n 'BA': 'Europe/Sarajevo',\n 'BB': 'America/Barbados',\n 'BD': 'Asia/Dhaka',\n 'BE': 'Europe/Brussels',\n 'BF': 'Africa/Ouagadougou',\n 'BG': 'Europe/Sofia',\n 'BH': 'Asia/Bahrain',\n 'BJ': 'Africa/Porto-Novo',\n 'BL': 'America/St_Barthelemy',\n 'BM': 'Atlantic/Bermuda',\n 'BN': 'Asia/Brunei',\n 'BO': 'America/La_Paz',\n 'BQ': 'America/Kralendijk',\n 'BR': 'America/Noronha',\n 'BS': 'America/Nassau',\n 'BT': 'Asia/Thimphu',\n 'BW': 'Africa/Gaborone',\n 'BY': 'Europe/Minsk',\n 'BZ': 'America/Belize',\n 'CA': 'America/St_Johns',\n 'CD': 'Africa/Kinshasa',\n 'CG': 'Africa/Brazzaville',\n 'CH': 'Europe/Zurich',\n 'CI': 'Africa/Abidjan',\n 'CL': 'America/Santiago',\n 'CM': 'Africa/Douala',\n 'CN': 'Asia/Shanghai',\n 'CO': 'America/Bogota',\n 'CR': 'America/Costa_Rica',\n 'CW': 'America/Curacao',\n 'CY': 'Asia/Nicosia',\n 'CZ': 'Europe/Prague',\n 'DE': 'Europe/Berlin',\n 'DJ': 'Africa/Djibouti',\n 'DK': 'Europe/Copenhagen',\n 'DO': 'America/Santo_Domingo',\n 'DZ': 'Africa/Algiers',\n 'EC': 'America/Guayaquil',\n 'EE': 'Europe/Tallinn',\n 'EG': 'Africa/Cairo',\n 'ES': 'Europe/Madrid',\n 'ET': 'Africa/Addis_Ababa',\n 'FI': 'Europe/Helsinki',\n 'FJ': 'Pacific/Fiji',\n 'FK': 'Atlantic/Stanley',\n 'FO': 'Atlantic/Faroe',\n 'FR': 'Europe/Paris',\n 'GA': 'Africa/Libreville',\n 'GB': 'Europe/London',\n 'GD': 'America/Grenada',\n 'GE': 'Asia/Tbilisi',\n 'GF': 'America/Cayenne',\n 'GG': 'Europe/Guernsey',\n 'GH': 'Africa/Accra',\n 'GI': 'Europe/Gibraltar',\n 'GL': 'America/Nuuk',\n 'GM': 'Africa/Banjul',\n 'GN': 'Africa/Conakry',\n 'GP': 'America/Guadeloupe',\n 'GQ': 'Africa/Malabo',\n 'GR': 'Europe/Athens',\n 'GT': 'America/Guatemala',\n 'GU': 'Pacific/Guam',\n 'GY': 'America/Guyana',\n 'HK': 'Asia/Hong_Kong',\n 'HN': 'America/Tegucigalpa',\n 'HR': 'Europe/Zagreb',\n 'HT': 'America/Port-au-Prince',\n 'HU': 'Europe/Budapest',\n 'ID': 'Asia/Jakarta',\n 'IE': 'Europe/Dublin',\n 'IL': 'Asia/Jerusalem',\n 'IM': 'Europe/Isle_of_Man',\n 'IN': 'Asia/Kolkata',\n 'IQ': 'Asia/Baghdad',\n 'IR': 'Asia/Tehran',\n 'IS': 'Atlantic/Reykjavik',\n 'IT': 'Europe/Rome',\n 'JE': 'Europe/Jersey',\n 'JM': 'America/Jamaica',\n 'JO': 'Asia/Amman',\n 'JP': 'Asia/Tokyo',\n 'KE': 'Africa/Nairobi',\n 'KG': 'Asia/Bishkek',\n 'KH': 'Asia/Phnom_Penh',\n 'KN': 'America/St_Kitts',\n 'KR': 'Asia/Seoul',\n 'KW': 'Asia/Kuwait',\n 'KY': 'America/Cayman',\n 'KZ': 'Asia/Almaty',\n 'LA': 'Asia/Vientiane',\n 'LB': 'Asia/Beirut',\n 'LC': 'America/St_Lucia',\n 'LI': 'Europe/Vaduz',\n 'LK': 'Asia/Colombo',\n 'LR': 'Africa/Monrovia',\n 'LS': 'Africa/Maseru',\n 'LT': 'Europe/Vilnius',\n 'LU': 'Europe/Luxembourg',\n 'LV': 'Europe/Riga',\n 'LY': 'Africa/Tripoli',\n 'MA': 'Africa/Casablanca',\n 'MC': 'Europe/Monaco',\n 'MD': 'Europe/Chisinau',\n 'ME': 'Europe/Podgorica',\n 'MF': 'America/Marigot',\n 'MG': 'Indian/Antananarivo',\n 'MK': 'Europe/Skopje',\n 'ML': 'Africa/Bamako',\n 'MM': 'Asia/Yangon',\n 'MN': 'Asia/Ulaanbaatar',\n 'MO': 'Asia/Macau',\n 'MP': 'Pacific/Saipan',\n 'MQ': 'America/Martinique',\n 'MR': 'Africa/Nouakchott',\n 'MT': 'Europe/Malta',\n 'MU': 'Indian/Mauritius',\n 'MV': 'Indian/Maldives',\n 'MW': 'Africa/Blantyre',\n 'MX': 'America/Mexico_City',\n 'MY': 'Asia/Kuala_Lumpur',\n 'MZ': 'Africa/Maputo',\n 'NC': 'Pacific/Noumea',\n 'NE': 'Africa/Niamey',\n 'NG': 'Africa/Lagos',\n 'NI': 'America/Managua',\n 'NL': 'Europe/Amsterdam',\n 'NO': 'Europe/Oslo',\n 'NP': 'Asia/Kathmandu',\n 'NZ': 'Pacific/Auckland',\n 'OM': 'Asia/Muscat',\n 'PA': 'America/Panama',\n 'PE': 'America/Lima',\n 'PF': 'Pacific/Tahiti',\n 'PG': 'Pacific/Port_Moresby',\n 'PH': 'Asia/Manila',\n 'PK': 'Asia/Karachi',\n 'PL': 'Europe/Warsaw',\n 'PR': 'America/Puerto_Rico',\n 'PS': 'Asia/Gaza',\n 'PT': 'Europe/Lisbon',\n 'PY': 'America/Asuncion',\n 'QA': 'Asia/Qatar',\n 'RE': 'Indian/Reunion',\n 'RO': 'Europe/Bucharest',\n 'RS': 'Europe/Belgrade',\n 'RU': 'Europe/Kaliningrad',\n 'RW': 'Africa/Kigali',\n 'SA': 'Asia/Riyadh',\n 'SC': 'Indian/Mahe',\n 'SD': 'Africa/Khartoum',\n 'SE': 'Europe/Stockholm',\n 'SG': 'Asia/Singapore',\n 'SI': 'Europe/Ljubljana',\n 'SK': 'Europe/Bratislava',\n 'SL': 'Africa/Freetown',\n 'SM': 'Europe/San_Marino',\n 'SN': 'Africa/Dakar',\n 'SO': 'Africa/Mogadishu',\n 'SR': 'America/Paramaribo',\n 'SS': 'Africa/Juba',\n 'SV': 'America/El_Salvador',\n 'SX': 'America/Lower_Princes',\n 'SY': 'Asia/Damascus',\n 'SZ': 'Africa/Mbabane',\n 'TC': 'America/Grand_Turk',\n 'TD': 'Africa/Ndjamena',\n 'TG': 'Africa/Lome',\n 'TH': 'Asia/Bangkok',\n 'TJ': 'Asia/Dushanbe',\n 'TL': 'Asia/Dili',\n 'TM': 'Asia/Ashgabat',\n 'TN': 'Africa/Tunis',\n 'TR': 'Europe/Istanbul',\n 'TT': 'America/Port_of_Spain',\n 'TW': 'Asia/Taipei',\n 'TZ': 'Africa/Dar_es_Salaam',\n 'UA': 'Europe/Simferopol',\n 'UG': 'Africa/Kampala',\n 'US': 'America/New_York',\n 'UY': 'America/Montevideo',\n 'UZ': 'Asia/Samarkand',\n 'VC': 'America/St_Vincent',\n 'VE': 'America/Caracas',\n 'VG': 'America/Tortola',\n 'VI': 'America/St_Thomas',\n 'VN': 'Asia/Ho_Chi_Minh',\n 'YE': 'Asia/Aden',\n 'ZA': 'Africa/Johannesburg',\n 'ZM': 'Africa/Lusaka',\n 'ZW': 'Africa/Harare'}"
     },
     "execution_count": 9,
     "metadata": {},
     "output_type": "execute_result"
    }
   ],
   "source": [
    "primary_timezones"
   ],
   "metadata": {
    "collapsed": false,
    "ExecuteTime": {
     "end_time": "2023-10-18T21:18:44.787591100Z",
     "start_time": "2023-10-18T21:18:44.777163800Z"
    }
   },
   "id": "a7e57efdabc2f661"
  },
  {
   "cell_type": "code",
   "execution_count": 10,
   "outputs": [
    {
     "data": {
      "text/plain": "{'AD': 'Andorra',\n 'AE': 'United Arab Emirates',\n 'AF': 'Afghanistan',\n 'AG': 'Antigua and Barbuda',\n 'AI': 'Anguilla',\n 'AL': 'Albania',\n 'AM': 'Armenia',\n 'AO': 'Angola',\n 'AR': 'Argentina',\n 'AS': 'American Samoa',\n 'AT': 'Austria',\n 'AU': 'Australia',\n 'AW': 'Aruba',\n 'AX': 'Åland Islands',\n 'AZ': 'Azerbaijan',\n 'BA': 'Bosnia and Herzegovina',\n 'BB': 'Barbados',\n 'BD': 'Bangladesh',\n 'BE': 'Belgium',\n 'BF': 'Burkina Faso',\n 'BG': 'Bulgaria',\n 'BH': 'Bahrain',\n 'BJ': 'Benin',\n 'BL': 'Saint Barthélemy',\n 'BM': 'Bermuda',\n 'BN': 'Brunei Darussalam',\n 'BO': 'Bolivia, Plurinational State of',\n 'BQ': 'Bonaire, Sint Eustatius and Saba',\n 'BR': 'Brazil',\n 'BS': 'Bahamas',\n 'BT': 'Bhutan',\n 'BW': 'Botswana',\n 'BY': 'Belarus',\n 'BZ': 'Belize',\n 'CA': 'Canada',\n 'CD': 'Congo, The Democratic Republic of the',\n 'CG': 'Congo',\n 'CH': 'Switzerland',\n 'CI': \"Côte d'Ivoire\",\n 'CL': 'Chile',\n 'CM': 'Cameroon',\n 'CN': 'China',\n 'CO': 'Colombia',\n 'CR': 'Costa Rica',\n 'CW': 'Curaçao',\n 'CY': 'Cyprus',\n 'CZ': 'Czechia',\n 'DE': 'Germany',\n 'DJ': 'Djibouti',\n 'DK': 'Denmark',\n 'DO': 'Dominican Republic',\n 'DZ': 'Algeria',\n 'EC': 'Ecuador',\n 'EE': 'Estonia',\n 'EG': 'Egypt',\n 'ES': 'Spain',\n 'ET': 'Ethiopia',\n 'FI': 'Finland',\n 'FJ': 'Fiji',\n 'FK': 'Falkland Islands (Malvinas)',\n 'FO': 'Faroe Islands',\n 'FR': 'France',\n 'GA': 'Gabon',\n 'GB': 'United Kingdom',\n 'GD': 'Grenada',\n 'GE': 'Georgia',\n 'GF': 'French Guiana',\n 'GG': 'Guernsey',\n 'GH': 'Ghana',\n 'GI': 'Gibraltar',\n 'GL': 'Greenland',\n 'GM': 'Gambia',\n 'GN': 'Guinea',\n 'GP': 'Guadeloupe',\n 'GQ': 'Equatorial Guinea',\n 'GR': 'Greece',\n 'GT': 'Guatemala',\n 'GU': 'Guam',\n 'GY': 'Guyana',\n 'HK': 'Hong Kong',\n 'HN': 'Honduras',\n 'HR': 'Croatia',\n 'HT': 'Haiti',\n 'HU': 'Hungary',\n 'ID': 'Indonesia',\n 'IE': 'Ireland',\n 'IL': 'Israel',\n 'IM': 'Isle of Man',\n 'IN': 'India',\n 'IQ': 'Iraq',\n 'IR': 'Iran, Islamic Republic of',\n 'IS': 'Iceland',\n 'IT': 'Italy',\n 'JE': 'Jersey',\n 'JM': 'Jamaica',\n 'JO': 'Jordan',\n 'JP': 'Japan',\n 'KE': 'Kenya',\n 'KG': 'Kyrgyzstan',\n 'KH': 'Cambodia',\n 'KN': 'Saint Kitts and Nevis',\n 'KR': 'Korea, Republic of',\n 'KW': 'Kuwait',\n 'KY': 'Cayman Islands',\n 'KZ': 'Kazakhstan',\n 'LA': \"Lao People's Democratic Republic\",\n 'LB': 'Lebanon',\n 'LC': 'Saint Lucia',\n 'LI': 'Liechtenstein',\n 'LK': 'Sri Lanka',\n 'LR': 'Liberia',\n 'LS': 'Lesotho',\n 'LT': 'Lithuania',\n 'LU': 'Luxembourg',\n 'LV': 'Latvia',\n 'LY': 'Libya',\n 'MA': 'Morocco',\n 'MC': 'Monaco',\n 'MD': 'Moldova, Republic of',\n 'ME': 'Montenegro',\n 'MF': 'Saint Martin (French part)',\n 'MG': 'Madagascar',\n 'MK': 'North Macedonia',\n 'ML': 'Mali',\n 'MM': 'Myanmar',\n 'MN': 'Mongolia',\n 'MO': 'Macao',\n 'MP': 'Northern Mariana Islands',\n 'MQ': 'Martinique',\n 'MR': 'Mauritania',\n 'MT': 'Malta',\n 'MU': 'Mauritius',\n 'MV': 'Maldives',\n 'MW': 'Malawi',\n 'MX': 'Mexico',\n 'MY': 'Malaysia',\n 'MZ': 'Mozambique',\n 'NC': 'New Caledonia',\n 'NE': 'Niger',\n 'NG': 'Nigeria',\n 'NI': 'Nicaragua',\n 'NL': 'Netherlands',\n 'NO': 'Norway',\n 'NP': 'Nepal',\n 'NZ': 'New Zealand',\n 'OM': 'Oman',\n 'PA': 'Panama',\n 'PE': 'Peru',\n 'PF': 'French Polynesia',\n 'PG': 'Papua New Guinea',\n 'PH': 'Philippines',\n 'PK': 'Pakistan',\n 'PL': 'Poland',\n 'PR': 'Puerto Rico',\n 'PS': 'Palestine, State of',\n 'PT': 'Portugal',\n 'PY': 'Paraguay',\n 'QA': 'Qatar',\n 'RE': 'Réunion',\n 'RO': 'Romania',\n 'RS': 'Serbia',\n 'RU': 'Russian Federation',\n 'RW': 'Rwanda',\n 'SA': 'Saudi Arabia',\n 'SC': 'Seychelles',\n 'SD': 'Sudan',\n 'SE': 'Sweden',\n 'SG': 'Singapore',\n 'SI': 'Slovenia',\n 'SK': 'Slovakia',\n 'SL': 'Sierra Leone',\n 'SM': 'San Marino',\n 'SN': 'Senegal',\n 'SO': 'Somalia',\n 'SR': 'Suriname',\n 'SS': 'South Sudan',\n 'SV': 'El Salvador',\n 'SX': 'Sint Maarten (Dutch part)',\n 'SY': 'Syrian Arab Republic',\n 'SZ': 'Eswatini',\n 'TC': 'Turks and Caicos Islands',\n 'TD': 'Chad',\n 'TG': 'Togo',\n 'TH': 'Thailand',\n 'TJ': 'Tajikistan',\n 'TL': 'Timor-Leste',\n 'TM': 'Turkmenistan',\n 'TN': 'Tunisia',\n 'TR': 'Turkey',\n 'TT': 'Trinidad and Tobago',\n 'TW': 'Taiwan, Province of China',\n 'TZ': 'Tanzania, United Republic of',\n 'UA': 'Ukraine',\n 'UG': 'Uganda',\n 'US': 'United States',\n 'UY': 'Uruguay',\n 'UZ': 'Uzbekistan',\n 'VC': 'Saint Vincent and the Grenadines',\n 'VE': 'Venezuela, Bolivarian Republic of',\n 'VG': 'Virgin Islands, British',\n 'VI': 'Virgin Islands, U.S.',\n 'VN': 'Viet Nam',\n 'YE': 'Yemen',\n 'ZA': 'South Africa',\n 'ZM': 'Zambia',\n 'ZW': 'Zimbabwe'}"
     },
     "execution_count": 10,
     "metadata": {},
     "output_type": "execute_result"
    }
   ],
   "source": [
    "country_names"
   ],
   "metadata": {
    "collapsed": false,
    "ExecuteTime": {
     "end_time": "2023-10-18T21:18:45.212456700Z",
     "start_time": "2023-10-18T21:18:45.203644600Z"
    }
   },
   "id": "bfe577c08a74f755"
  },
  {
   "cell_type": "code",
   "execution_count": 11,
   "outputs": [],
   "source": [
    "data = df[['Install Time', 'country_code_prepped']]"
   ],
   "metadata": {
    "collapsed": false,
    "ExecuteTime": {
     "end_time": "2023-10-18T21:18:45.677121900Z",
     "start_time": "2023-10-18T21:18:45.652305900Z"
    }
   },
   "id": "7226ba5907221bae"
  },
  {
   "cell_type": "code",
   "execution_count": 12,
   "outputs": [
    {
     "name": "stderr",
     "output_type": "stream",
     "text": [
      "C:\\Users\\Diana\\AppData\\Local\\Temp\\ipykernel_39244\\1928677969.py:6: SettingWithCopyWarning: \n",
      "A value is trying to be set on a copy of a slice from a DataFrame.\n",
      "Try using .loc[row_indexer,col_indexer] = value instead\n",
      "\n",
      "See the caveats in the documentation: https://pandas.pydata.org/pandas-docs/stable/user_guide/indexing.html#returning-a-view-versus-a-copy\n",
      "  data['country_name'] = data['country_code_prepped'].map(country_names)\n",
      "C:\\Users\\Diana\\AppData\\Local\\Temp\\ipykernel_39244\\1928677969.py:9: UserWarning: Could not infer format, so each element will be parsed individually, falling back to `dateutil`. To ensure parsing is consistent and as-expected, please specify a format.\n",
      "  data['Install Time'] = pd.to_datetime(data['Install Time'])\n",
      "C:\\Users\\Diana\\AppData\\Local\\Temp\\ipykernel_39244\\1928677969.py:9: SettingWithCopyWarning: \n",
      "A value is trying to be set on a copy of a slice from a DataFrame.\n",
      "Try using .loc[row_indexer,col_indexer] = value instead\n",
      "\n",
      "See the caveats in the documentation: https://pandas.pydata.org/pandas-docs/stable/user_guide/indexing.html#returning-a-view-versus-a-copy\n",
      "  data['Install Time'] = pd.to_datetime(data['Install Time'])\n"
     ]
    },
    {
     "name": "stdout",
     "output_type": "stream",
     "text": [
      "              Install Time Country Code country_code_prepped  \\\n",
      "0      2018-01-15 00:00:00           MX                   MX   \n",
      "1      2018-01-15 00:00:00           UK                   GB   \n",
      "2      2018-01-15 00:00:00           MY                   MY   \n",
      "3      2018-01-15 00:00:00           ID                   ID   \n",
      "4      2018-01-15 00:00:00           BR                   BR   \n",
      "...                    ...          ...                  ...   \n",
      "174727 2018-01-17 23:59:00           AU                   AU   \n",
      "174728 2018-01-17 23:59:00           US                   US   \n",
      "174729 2018-01-17 23:59:00           US                   US   \n",
      "174730 2018-01-17 23:59:00           MX                   MX   \n",
      "174731 2018-01-17 23:59:00           DO                   DO   \n",
      "\n",
      "              country_name     local_install_datetime  \n",
      "0                   Mexico  2018-01-14 16:00:00-06:00  \n",
      "1           United Kingdom  2018-01-14 22:00:00+00:00  \n",
      "2                 Malaysia  2018-01-15 06:00:00+08:00  \n",
      "3                Indonesia  2018-01-15 05:00:00+07:00  \n",
      "4                   Brazil  2018-01-14 20:00:00-02:00  \n",
      "...                    ...                        ...  \n",
      "174727           Australia  2018-01-18 08:59:00+11:00  \n",
      "174728       United States  2018-01-17 16:59:00-05:00  \n",
      "174729       United States  2018-01-17 16:59:00-05:00  \n",
      "174730              Mexico  2018-01-17 15:59:00-06:00  \n",
      "174731  Dominican Republic  2018-01-17 17:59:00-04:00  \n",
      "\n",
      "[174732 rows x 5 columns]\n"
     ]
    },
    {
     "name": "stderr",
     "output_type": "stream",
     "text": [
      "C:\\Users\\Diana\\AppData\\Local\\Temp\\ipykernel_39244\\1928677969.py:20: SettingWithCopyWarning: \n",
      "A value is trying to be set on a copy of a slice from a DataFrame.\n",
      "Try using .loc[row_indexer,col_indexer] = value instead\n",
      "\n",
      "See the caveats in the documentation: https://pandas.pydata.org/pandas-docs/stable/user_guide/indexing.html#returning-a-view-versus-a-copy\n",
      "  data['local_install_datetime'] = data.apply(convert_to_local_timezone, axis=1)\n"
     ]
    }
   ],
   "source": [
    "import pandas as pd\n",
    "import pytz\n",
    "\n",
    "# Sample data\n",
    "data = df[['Install Time', 'Country Code', 'country_code_prepped']]\n",
    "data['country_name'] = data['country_code_prepped'].map(country_names)\n",
    "\n",
    "# Convert datetime column to datetime format\n",
    "data['Install Time'] = pd.to_datetime(data['Install Time'])\n",
    "\n",
    "# Function to convert datetime based on country code\n",
    "def convert_to_local_timezone(row):\n",
    "    source_timezone = pytz.timezone('Europe/Kiev')  # Kyiv timezone\n",
    "    target_timezone = pytz.timezone(primary_timezones[row['country_code_prepped']])\n",
    "\n",
    "    local_datetime = row['Install Time'].tz_localize(source_timezone).tz_convert(target_timezone)\n",
    "    return local_datetime\n",
    "\n",
    "# Apply the function to each row\n",
    "data['local_install_datetime'] = data.apply(convert_to_local_timezone, axis=1)\n",
    "\n",
    "print(data)"
   ],
   "metadata": {
    "collapsed": false,
    "ExecuteTime": {
     "end_time": "2023-10-18T21:18:52.570273400Z",
     "start_time": "2023-10-18T21:18:46.128589800Z"
    }
   },
   "id": "b09de4467ba28268"
  },
  {
   "cell_type": "code",
   "execution_count": 13,
   "outputs": [],
   "source": [
    "data.to_csv('BM-sample-extention.csv', index=False)"
   ],
   "metadata": {
    "collapsed": false,
    "ExecuteTime": {
     "end_time": "2023-10-18T21:18:54.124991600Z",
     "start_time": "2023-10-18T21:18:52.565273400Z"
    }
   },
   "id": "4e79fed64be24c14"
  },
  {
   "cell_type": "code",
   "execution_count": null,
   "outputs": [],
   "source": [],
   "metadata": {
    "collapsed": false,
    "ExecuteTime": {
     "end_time": "2023-10-18T21:18:21.512110500Z",
     "start_time": "2023-10-18T21:18:21.511110200Z"
    }
   },
   "id": "53e05470b0865705"
  }
 ],
 "metadata": {
  "kernelspec": {
   "display_name": "Python 3",
   "language": "python",
   "name": "python3"
  },
  "language_info": {
   "codemirror_mode": {
    "name": "ipython",
    "version": 2
   },
   "file_extension": ".py",
   "mimetype": "text/x-python",
   "name": "python",
   "nbconvert_exporter": "python",
   "pygments_lexer": "ipython2",
   "version": "2.7.6"
  }
 },
 "nbformat": 4,
 "nbformat_minor": 5
}

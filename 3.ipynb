{
 "cells": [
  {
   "cell_type": "code",
   "execution_count": 481,
   "id": "initial_id",
   "metadata": {
    "collapsed": true,
    "ExecuteTime": {
     "end_time": "2023-10-19T21:24:09.961643400Z",
     "start_time": "2023-10-19T21:24:09.948593Z"
    }
   },
   "outputs": [],
   "source": [
    "import os\n",
    "import pandas as pd\n",
    "import numpy as np\n",
    "from configparser import ConfigParser\n",
    "import sqlalchemy as db\n",
    "from sqlalchemy.orm import sessionmaker, declarative_base, relationship\n",
    "from sqlalchemy import MetaData, Table, Column, Integer, BigInteger, Date, Numeric, ForeignKey, CHAR, Boolean, Text, select, and_"
   ]
  },
  {
   "cell_type": "code",
   "execution_count": 482,
   "outputs": [],
   "source": [
    "# getting the database (postgresql) credentials from the .ini file\n",
    "def get_db_ini(ini_file):\n",
    "    db_parser = ConfigParser()\n",
    "    db_parser.read(str(ini_file))\n",
    "\n",
    "    # get section, default to postgresql\n",
    "    ini = {}\n",
    "    params = db_parser.items('postgresql')\n",
    "    for param in params:\n",
    "        ini[param[0]] = param[1]\n",
    "    \n",
    "    return ini\n",
    "\n",
    "db_ini = get_db_ini(ini_file=\"database.ini\")"
   ],
   "metadata": {
    "collapsed": false,
    "ExecuteTime": {
     "end_time": "2023-10-19T21:24:09.964642600Z",
     "start_time": "2023-10-19T21:24:09.955537300Z"
    }
   },
   "id": "b0634064536cfc87"
  },
  {
   "cell_type": "code",
   "execution_count": 483,
   "outputs": [],
   "source": [
    "# create and open the connection to the database\n",
    "engine = db.create_engine(\n",
    "    url=\"postgresql://{0}:{1}@{2}:{3}/{4}\".format(\n",
    "        db_ini['user'], db_ini['password'], db_ini['host'], db_ini['port'], db_ini['database']\n",
    "    )\n",
    ")\n",
    "metadata = MetaData(bind=engine)\n",
    "metadata.reflect()"
   ],
   "metadata": {
    "collapsed": false,
    "ExecuteTime": {
     "end_time": "2023-10-19T21:24:11.643433700Z",
     "start_time": "2023-10-19T21:24:09.964642600Z"
    }
   },
   "id": "524e51637a99e6ed"
  },
  {
   "cell_type": "code",
   "execution_count": 484,
   "outputs": [],
   "source": [
    "Base = declarative_base()\n",
    "\n",
    "class App(Base):\n",
    "    __tablename__ = 'apps'\n",
    "    app_apple_id = Column(Integer, primary_key=True, nullable=False)\n",
    "    app_name = Column(Text)\n",
    "    \n",
    "    subscriptions = relationship('Subscription', back_populates='app')\n",
    "\n",
    "class Subscription(Base):\n",
    "    __tablename__ = 'subscriptions'\n",
    "    subscription_apple_id = Column(Integer, primary_key=True)\n",
    "    app_apple_id = Column(Integer, ForeignKey('apps.app_apple_id', ondelete='CASCADE'))\n",
    "    subscription_group_id = Column(Integer)\n",
    "    subscription_name = Column(Text)\n",
    "    subscription_duration = Column(Text)\n",
    "    introductory_price_type = Column(Text)\n",
    "    introductory_price_duration = Column(Text)\n",
    "    marketing_opt_in_duration = Column(Text)\n",
    "\n",
    "    # Relationship with the App class\n",
    "    app = relationship('App', back_populates='subscriptions')\n",
    "\n",
    "    # Relationship to use in the Transaction class to refer back to the Subscription\n",
    "    transactions = relationship('Transaction', back_populates='subscription')\n",
    "\n",
    "class Transaction(Base):\n",
    "    __tablename__ = 'transactions'\n",
    "    transaction_id = Column(Integer, primary_key=True, autoincrement=True)\n",
    "    event_date = Column(Date)\n",
    "    subscriber_id = Column(BigInteger)\n",
    "    subscription_apple_id = Column(Integer, ForeignKey('subscriptions.subscription_apple_id', ondelete='CASCADE'))\n",
    "    customer_price = Column(Numeric(16, 2))\n",
    "    customer_currency = Column(CHAR(3))\n",
    "    customer_price_usd = Column(Numeric(16, 2))\n",
    "    developer_proceeds = Column(Numeric(16, 2))\n",
    "    proceeds_currency = Column(CHAR(3))\n",
    "    developer_proceeds_usd = Column(Numeric(16, 2))\n",
    "    preserved_pricing = Column(Boolean)\n",
    "    proceeds_reason = Column(Text)\n",
    "    client = Column(Text)\n",
    "    device = Column(Text)\n",
    "    country = Column(CHAR(2))\n",
    "    subscriber_id_reset = Column(Boolean)\n",
    "    refund = Column(Boolean)\n",
    "    purchase_date = Column(Date)\n",
    "    units = Column(Integer)\n",
    "\n",
    "    # Relationship with the Subscription class\n",
    "    subscription = relationship('Subscription', back_populates='transactions')\n",
    "\n",
    "#Base.metadata.create_all(engine)"
   ],
   "metadata": {
    "collapsed": false,
    "ExecuteTime": {
     "end_time": "2023-10-19T21:24:11.658680200Z",
     "start_time": "2023-10-19T21:24:11.648423300Z"
    }
   },
   "id": "88f006f65f0ace44"
  },
  {
   "cell_type": "code",
   "execution_count": 485,
   "outputs": [],
   "source": [
    "def convert_to_usd(amount, currency):\n",
    "    if currency == 'USD' or amount == 0:\n",
    "        return amount\n",
    "    else:\n",
    "        rate = RATES.get(currency, 1)  # Default to a rate of 1 if the currency rate isn't available\n",
    "        return round(amount / rate, 2)\n",
    "\n",
    "# import currency rates\n",
    "# Currency exchange API can be used if better precision is needed\n",
    "import json\n",
    "\n",
    "with open('rates.json', 'r') as f:\n",
    "    RATES = json.load(f)\n",
    "\n",
    "#rates"
   ],
   "metadata": {
    "collapsed": false,
    "ExecuteTime": {
     "end_time": "2023-10-19T21:24:11.671927100Z",
     "start_time": "2023-10-19T21:24:11.661633600Z"
    }
   },
   "id": "4fb48f73b4d2d94f"
  },
  {
   "cell_type": "code",
   "execution_count": 486,
   "outputs": [],
   "source": [
    "def transform_df(df):\n",
    "    \n",
    "    df['Event Date'] = pd.to_datetime(df['Event Date'], format=\"%Y-%m-%d\")\n",
    "    df['Purchase Date'] = pd.to_datetime(df['Purchase Date'], errors='coerce').replace({pd.NaT: None}, inplace=True) #convert to datetime with NaN in the col\n",
    "\n",
    "    df['customer_price_usd'] = df['Customer Price'].copy()\n",
    "    df['customer_price_usd'] = df.apply(lambda row: convert_to_usd(row['Customer Price'], row['Customer Currency']), \n",
    "                                           axis=1)\n",
    "    \n",
    "    df['developer_proceeds_usd'] = df['Developer Proceeds'].copy()\n",
    "    df['developer_proceeds_usd'] = df.apply(lambda row: convert_to_usd(row['Developer Proceeds'], row['Proceeds Currency']),\n",
    "                                            axis=1)\n",
    "    \n",
    "    # convert all Yes-blank columns to boolean \n",
    "    df['Preserved Pricing'] = df['Preserved Pricing'] == 0\n",
    "    df['Subscriber ID Reset'] = df['Subscriber ID Reset'] == 0\n",
    "    df['Refund'] = df['Refund'] == 0\n",
    "    \n",
    "    # rename columns\n",
    "    cols = ['event_date', 'app_name', 'app_apple_id', 'subscription_name',\n",
    "            'subscription_apple_id', 'subscription_group_id',\n",
    "            'subscription_duration', 'introductory_price_type',\n",
    "            'introductory_price_duration', 'marketing_opt_in_duration',\n",
    "            'customer_price', 'customer_currency', 'developer_proceeds',\n",
    "            'proceeds_currency', 'preserved_pricing', 'proceeds_reason', 'client',\n",
    "            'device', 'country', 'subscriber_id', 'subscriber_id_reset', 'refund',\n",
    "            'purchase_date', 'units', 'customer_price_usd',\n",
    "            'developer_proceeds_usd']\n",
    "    df.columns = cols\n",
    "    \n",
    "    # separating dataframe for each table \n",
    "    apps_data = df[['app_apple_id', 'app_name']].copy().drop_duplicates()\n",
    "    subscriptions_data = df[['subscription_apple_id', 'app_apple_id', 'subscription_group_id',\n",
    "                             'subscription_name', 'subscription_duration', 'introductory_price_type',\n",
    "                             'introductory_price_duration', 'marketing_opt_in_duration']].copy()\n",
    "    transactions_data = df[['event_date', 'subscriber_id', 'subscription_apple_id',\n",
    "                            'customer_price', 'customer_currency', 'customer_price_usd',\n",
    "                            'developer_proceeds', 'proceeds_currency', 'developer_proceeds_usd',\n",
    "                            'preserved_pricing', 'proceeds_reason', 'client', 'device', 'country',\n",
    "                            'subscriber_id_reset', 'refund', 'purchase_date', 'units']].copy()\n",
    "\n",
    "    def clear_subs(column_name):\n",
    "        for index in subscriptions_data['subscription_apple_id'].unique():\n",
    "            value = subscriptions_data[subscriptions_data['subscription_apple_id'] == index][column_name].drop_duplicates().sort_values().iloc[0]\n",
    "\n",
    "            subscriptions_data.loc[\n",
    "                subscriptions_data['subscription_apple_id'] == index,\n",
    "                column_name\n",
    "            ] = subscriptions_data.loc[\n",
    "                subscriptions_data['subscription_apple_id'] == index,\n",
    "                column_name\n",
    "            ].fillna(value)\n",
    "\n",
    "    for name in ['introductory_price_type', 'introductory_price_duration']:\n",
    "        clear_subs(column_name=name)\n",
    "\n",
    "    #subscriptions_data['marketing_opt_in_duration'].fillna(value='no_data', inplace=True)\n",
    "    subscriptions_data = subscriptions_data.replace({np.nan: None})\n",
    "    transactions_data[['proceeds_reason', 'client', 'device', 'country']] = transactions_data[['proceeds_reason', 'client', 'device', 'country']].replace({np.nan: None, '': None})\n",
    "        \n",
    "    subscriptions_data.drop_duplicates()\n",
    "    \n",
    "    return apps_data, subscriptions_data, transactions_data"
   ],
   "metadata": {
    "collapsed": false,
    "ExecuteTime": {
     "end_time": "2023-10-19T21:24:11.689476Z",
     "start_time": "2023-10-19T21:24:11.680945600Z"
    }
   },
   "id": "f0066aea0bc4ec57"
  },
  {
   "cell_type": "code",
   "execution_count": 487,
   "outputs": [],
   "source": [
    "def insert_dataframe(df, table, unique_columns):\n",
    "    \"\"\"\n",
    "    Insert data from a DataFrame into a database table through a given SQLAlchemy session.\n",
    "    Checks for the existence of each row before insertion.\n",
    "    \"\"\"\n",
    "\n",
    "    for idx, row in df.iterrows():\n",
    "        if len(unique_columns) == 0:\n",
    "            conditions = [table.c[col] == row[col] for col in row.index if col in table.c]\n",
    "            stmt = select([table]).where(and_(True, *conditions))\n",
    "        else:\n",
    "            # Check existence based on unique columns\n",
    "            conditions = [table.c[col] == row[col] for col in unique_columns]\n",
    "            stmt = select([table]).where(and_(True, *conditions))\n",
    "\n",
    "        existing = session.execute(stmt).scalar_one_or_none()\n",
    "\n",
    "        # If the record does not exist, insert a new record\n",
    "        if existing is None:\n",
    "            new_record = {col: row[col] for col in row.index if col in table.c}\n",
    "            session.execute(table.insert().values(**new_record))\n",
    "    \n",
    "    session.commit()"
   ],
   "metadata": {
    "collapsed": false,
    "ExecuteTime": {
     "end_time": "2023-10-19T21:24:11.699476200Z",
     "start_time": "2023-10-19T21:24:11.687474600Z"
    }
   },
   "id": "e78c378150b53553"
  },
  {
   "cell_type": "code",
   "execution_count": 488,
   "outputs": [
    {
     "name": "stdout",
     "output_type": "stream",
     "text": [
      "Loading from: itunes_dataset\\20190201.txt Done.\n",
      "Loading from: itunes_dataset\\20190202.txt Done.\n",
      "Loading from: itunes_dataset\\20190203.txt Done.\n",
      "Loading from: itunes_dataset\\20190204.txt Done.\n",
      "Loading from: itunes_dataset\\20190205.txt Done.\n",
      "Loading from: itunes_dataset\\20190206.txt Done.\n",
      "Loading from: itunes_dataset\\20190207.txt Done.\n",
      "Loading from: itunes_dataset\\20190208.txt Done.\n",
      "Loading from: itunes_dataset\\20190209.txt Done.\n",
      "Loading from: itunes_dataset\\20190210.txt Done.\n"
     ]
    }
   ],
   "source": [
    "Session = sessionmaker(bind=engine)\n",
    "session = Session()\n",
    "\n",
    "try:\n",
    "    # load the data from files in the directory\n",
    "    directory_path = \"itunes_dataset\"\n",
    "\n",
    "    for filename in os.listdir(directory_path):\n",
    "        if filename.endswith(\".txt\"):\n",
    "            file_path = os.path.join(directory_path, filename)\n",
    "            data = pd.read_csv(file_path, delimiter='\\t')\n",
    "            print(f'Loading from: {file_path}', end=' ')\n",
    "            \n",
    "            apps_data, subscriptions_data, transactions_data = transform_df(data)\n",
    "\n",
    "            apps_table = metadata.tables['apps']\n",
    "            insert_dataframe(apps_data, apps_table, unique_columns=['app_apple_id'])\n",
    "\n",
    "            subscriptions_table = metadata.tables['subscriptions']\n",
    "            insert_dataframe(subscriptions_data, subscriptions_table, unique_columns=['subscription_apple_id'])\n",
    "\n",
    "            transactions_table = metadata.tables['transactions']\n",
    "            insert_dataframe(transactions_data, transactions_table, unique_columns=[])\n",
    "\n",
    "            print('Done.')\n",
    "\n",
    "except Exception as e:\n",
    "    print(\"Error occurred:\", e)\n",
    "    session.rollback()\n",
    "\n",
    "finally:\n",
    "    session.close()\n",
    "    engine.dispose()"
   ],
   "metadata": {
    "collapsed": false,
    "ExecuteTime": {
     "end_time": "2023-10-19T21:24:46.681649600Z",
     "start_time": "2023-10-19T21:24:11.697373200Z"
    }
   },
   "id": "121342886842e293"
  }
 ],
 "metadata": {
  "kernelspec": {
   "display_name": "Python 3",
   "language": "python",
   "name": "python3"
  },
  "language_info": {
   "codemirror_mode": {
    "name": "ipython",
    "version": 2
   },
   "file_extension": ".py",
   "mimetype": "text/x-python",
   "name": "python",
   "nbconvert_exporter": "python",
   "pygments_lexer": "ipython2",
   "version": "2.7.6"
  }
 },
 "nbformat": 4,
 "nbformat_minor": 5
}
